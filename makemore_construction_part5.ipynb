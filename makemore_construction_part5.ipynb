{
 "cells": [
  {
   "cell_type": "code",
   "execution_count": 1,
   "metadata": {},
   "outputs": [],
   "source": [
    "##Create train, dev/val,test\n",
    "import torch\n",
    "import torch.nn.functional as F\n",
    "import matplotlib.pyplot as plt\n",
    "import random\n",
    "%matplotlib inline"
   ]
  },
  {
   "cell_type": "code",
   "execution_count": 2,
   "metadata": {},
   "outputs": [],
   "source": [
    "\n",
    "words = open('names.txt', 'r').read().splitlines()\n",
    "random.seed(42)\n",
    "random.shuffle(words)\n",
    "\n",
    "chars = sorted(list(set(''.join(words))))\n",
    "stoi = {s:i+1 for i, s in enumerate(chars)}\n",
    "stoi['.'] = 0\n",
    "itos = {i:s for s, i in stoi.items()}\n",
    "\n",
    "#Building the dataset - very similar to the trigram construction but dynamic\n",
    "def prepare_data(data, block_size):\n",
    "\n",
    "    block_size = block_size #alternative for context length\n",
    "\n",
    "    X, Y = [], []\n",
    "\n",
    "    for w in data:\n",
    "\n",
    "        #print(w, '--- word of interest')\n",
    "        context = [0] * block_size #How many characters to consider from the left to the right\n",
    "        for ch in w + '.': #adding end word\n",
    "            \n",
    "            ix = stoi[ch]\n",
    "\n",
    "            X.append(context)\n",
    "            Y.append(ix)\n",
    "\n",
    "            #print(''.join(itos[i] for i in context), '--->', itos[ix])\n",
    "\n",
    "            context = context[1:] + [ix] #context is redefined as a new list and we move the window to the right\n",
    "\n",
    "\n",
    "    X = torch.tensor(X)\n",
    "    Y = torch.tensor(Y)\n",
    "\n",
    "    return X, Y"
   ]
  },
  {
   "cell_type": "code",
   "execution_count": 3,
   "metadata": {},
   "outputs": [],
   "source": [
    "train_limit = int(0.8*len(words))\n",
    "dev_limit = int(0.9*len(words))\n",
    "block_size = 3\n",
    "\n",
    "Xtr, Ytr = prepare_data(words[:train_limit], block_size = block_size)\n",
    "Xdev, Ydev = prepare_data(words[train_limit:dev_limit], block_size = block_size)\n",
    "Xtest, Ytest = prepare_data(words[dev_limit:], block_size = block_size)"
   ]
  },
  {
   "cell_type": "code",
   "execution_count": 4,
   "metadata": {},
   "outputs": [
    {
     "name": "stdout",
     "output_type": "stream",
     "text": [
      "... ---> y\n",
      "..y ---> u\n",
      ".yu ---> h\n",
      "yuh ---> e\n",
      "uhe ---> n\n",
      "hen ---> g\n",
      "eng ---> .\n",
      "... ---> d\n",
      "..d ---> i\n",
      ".di ---> o\n",
      "dio ---> n\n",
      "ion ---> d\n",
      "ond ---> r\n",
      "ndr ---> e\n",
      "dre ---> .\n",
      "... ---> x\n",
      "..x ---> a\n",
      ".xa ---> v\n",
      "xav ---> i\n",
      "avi ---> e\n"
     ]
    }
   ],
   "source": [
    "\n",
    "for x, y in zip(Xtr[:20], Ytr[:20]):\n",
    "    print(''.join(itos[ix.item()] for ix in x), '--->', itos[y.item()])"
   ]
  },
  {
   "cell_type": "code",
   "execution_count": 5,
   "metadata": {},
   "outputs": [
    {
     "data": {
      "text/plain": [
       "(tensor([0, 0, 0]), tensor(25))"
      ]
     },
     "execution_count": 5,
     "metadata": {},
     "output_type": "execute_result"
    }
   ],
   "source": [
    "Xtr[0], Ytr[0]"
   ]
  },
  {
   "cell_type": "code",
   "execution_count": null,
   "metadata": {},
   "outputs": [],
   "source": [
    "# Let's train a deeper network\n",
    "# The classes we create here are the same API as nn.Module in PyTorch\n",
    "class Linear:\n",
    "  \n",
    "  def __init__(self, fan_in, fan_out, bias=True):\n",
    "    self.fan_in = fan_in\n",
    "    self.fan_out = fan_out\n",
    "    self.weight = torch.randn((self.fan_in, fan_out)) / fan_in**0.5\n",
    "    self.bias = torch.zeros(self.fan_out) if bias else None\n",
    "\n",
    "  \n",
    "  def __call__(self, x):\n",
    "\n",
    "    #Forward pass\n",
    "    self.out = x @ self.weight\n",
    "\n",
    "    #Adding the biases if needed\n",
    "    if self.bias is not None:\n",
    "      self.out += self.bias\n",
    "    return self.out\n",
    "  \n",
    "  def __repr__(self):\n",
    "      \"\"\"Prints the class representation.\"\"\"\n",
    "      if self.bias is None:\n",
    "          return f\"{self.__class__.__name__}(fan_in={self.fan_in}, fan_out={self.fan_out}, bias={False})\"\n",
    "      return f\"{self.__class__.__name__}(fan_in={self.fan_in}, fan_out={self.fan_out}, bias={True})\"\n",
    "  \n",
    "  def parameters(self):\n",
    "    return [self.weight] + ([] if self.bias is None else [self.bias]) #learnable parameters\n",
    "  \n",
    "#___________________________\n",
    "\n",
    "class BatchNorm1d:\n",
    "  \n",
    "  def __init__(self, dim, eps=1e-5, momentum=0.1):\n",
    "\n",
    "    #Epsilon is a small value used for preventing the perfect nullity of variance\n",
    "    self.eps = eps\n",
    "    self.momentum = momentum\n",
    "    self.training = True\n",
    "    self.dim = dim\n",
    "    # parameters (trained with backprop)\n",
    "    self.gamma = torch.ones(self.dim)\n",
    "    self.beta = torch.zeros(self.dim)\n",
    "    # buffers (trained with a running 'momentum update')\n",
    "    self.running_mean = torch.zeros(self.dim)\n",
    "    self.running_var = torch.ones(self.dim)\n",
    "  \n",
    "  def __call__(self, x):\n",
    "    # calculate the forward pass\n",
    "    if self.training:\n",
    "      xmean = x.mean(0, keepdim=True) # batch mean\n",
    "      xvar = x.var(0, keepdim=True) # batch variance\n",
    "    else:\n",
    "      xmean = self.running_mean\n",
    "      xvar = self.running_var\n",
    "      \n",
    "    xhat = (x - xmean) / torch.sqrt(xvar + self.eps) # normalize to unit variance\n",
    "    self.out = self.gamma * xhat + self.beta \n",
    "    \n",
    "    # update the buffers\n",
    "    if self.training:\n",
    "      with torch.no_grad():\n",
    "        self.running_mean = (1 - self.momentum) * self.running_mean + self.momentum * xmean\n",
    "        self.running_var = (1 - self.momentum) * self.running_var + self.momentum * xvar\n",
    "    return self.out\n",
    "  \n",
    "  def __repr__(self):\n",
    "    \"\"\"Prints the class representation.\"\"\"\n",
    "        \n",
    "    return f\"{self.__class__.__name__}(dim={self.dim}, eps={self.eps}, momentum={self.momentum}, training={self.training})\"\n",
    "  \n",
    "\n",
    "  def parameters(self):\n",
    "    return [self.gamma, self.beta] #learnable parameters\n",
    "\n",
    "#__________________________________________________\n",
    "\n",
    "class Tanh:\n",
    "  def __call__(self, x):\n",
    "    self.out = torch.tanh(x)\n",
    "    return self.out\n",
    "\n",
    "  def __repr__(self):\n",
    "    \"\"\"Prints the class representation.\"\"\"\n",
    "        \n",
    "    return f\"{self.__class__.__name__}()\"\n",
    "  \n",
    "\n",
    "  def parameters(self):\n",
    "    return []\n",
    "  \n",
    "\n",
    "  #_____________ embedding layer\n",
    "\n",
    "  class Embedding: \n",
    "\n",
    "    def __init__(self, num_embeddings, embedding_dim):\n",
    "      self.weight = torch.randn(num_embeddings, embedding_dim)\n",
    "\n",
    "    def __call__(self, IX):\n",
    "      try:\n",
    "        #Forward pass\n",
    "        self.out = self.weight[IX]\n",
    "      except Exception as e: \n",
    "        print(f'Error at embedding indexing: {e}')\n",
    "        print('Returning the randomly initialized embdding matrix')\n",
    "        self.out = self.weight\n",
    "      \n",
    "      return self.out\n",
    "    \n",
    "    def parameters(self):\n",
    "      return [self.weight]\n",
    "\n",
    "    \n",
    "    def __repr__(self):\n",
    "      \"\"\"Prints the class representation.\"\"\"\n",
    "          \n",
    "      return f\"{self.__class__.__name__}(embed_dimensions={self.weight.shape}\"\n",
    "\n",
    "\n",
    "#________\n",
    "class Flatten:\n",
    "\n",
    "  def __call__(self, x):\n",
    "    self.out = x.vew(x.shape[0], -1)\n",
    "    return self.out\n",
    "\n",
    "  def parameters(self):\n",
    "    return []"
   ]
  },
  {
   "cell_type": "code",
   "execution_count": 7,
   "metadata": {},
   "outputs": [
    {
     "name": "stdout",
     "output_type": "stream",
     "text": [
      " Number of parameters: 381951\n"
     ]
    }
   ],
   "source": [
    "\n",
    "n_embd = 10 # the dimensionality of the character embedding vectors\n",
    "n_hidden = 300 # the number of neurons in the hidden layer of the MLP\n",
    "vocab_size = len(stoi.keys())\n",
    "C = torch.randn((vocab_size, n_embd))\n",
    "layers = [\n",
    "  Linear(n_embd * block_size, n_hidden, bias=True), BatchNorm1d(n_hidden), Tanh(),\n",
    "  Linear(           n_hidden, n_hidden, bias=True), BatchNorm1d(n_hidden), Tanh(),\n",
    "  Linear(           n_hidden, n_hidden, bias=True), BatchNorm1d(n_hidden), Tanh(),\n",
    "  Linear(           n_hidden, n_hidden, bias=True), BatchNorm1d(n_hidden), Tanh(),\n",
    "  Linear(           n_hidden, n_hidden, bias=True), BatchNorm1d(n_hidden), Tanh(),\n",
    "  Linear(           n_hidden, vocab_size, bias=True), BatchNorm1d(vocab_size),\n",
    "]\n",
    "\n",
    "\n",
    "with torch.no_grad():\n",
    "  \n",
    "  pass \n",
    "  # all other layers: apply gain when not using batch normalization\n",
    "  # for layer in layers[:-1]:\n",
    "  #   if isinstance(layer, Linear):\n",
    "  #     #layer.weight *= 0\n",
    "  #     layer.weight *= 5/3 ###gain section\n",
    "\n",
    "  #make the last layer less confident for some reason. \n",
    "  #layers[-1].weight *= 0.1\n",
    "  \n",
    "      \n",
    "parameters = [C] + [p for layer in layers for p in layer.parameters()]\n",
    "print(f' Number of parameters:', sum(p.nelement() for p in parameters)) # number of parameters in total\n",
    "for p in parameters:\n",
    "  p.requires_grad = True"
   ]
  },
  {
   "cell_type": "code",
   "execution_count": 8,
   "metadata": {},
   "outputs": [
    {
     "data": {
      "text/plain": [
       "(torch.Size([27, 10]), 3, torch.Size([2, 3, 10]))"
      ]
     },
     "execution_count": 8,
     "metadata": {},
     "output_type": "execute_result"
    }
   ],
   "source": [
    "C.shape, block_size, C[Xtr[:2]].shape"
   ]
  },
  {
   "cell_type": "code",
   "execution_count": 9,
   "metadata": {},
   "outputs": [
    {
     "name": "stdout",
     "output_type": "stream",
     "text": [
      "ex_emb shape pre view torch.Size([2, 3, 10])\n",
      "ex_emb shape post view torch.Size([2, 30])\n"
     ]
    }
   ],
   "source": [
    "ex_emb = C[Xtr[:2]]\n",
    "print(f'ex_emb shape pre view {ex_emb.shape}')\n",
    "new_shape = ex_emb.view(ex_emb.shape[0], -1)\n",
    "print(f'ex_emb shape post view {new_shape.shape}')"
   ]
  },
  {
   "cell_type": "markdown",
   "metadata": {},
   "source": [
    "## Deprec layer organization\n",
    "- why do we keep embedding layer operations (view) and indexing outside of layer organization "
   ]
  },
  {
   "cell_type": "code",
   "execution_count": null,
   "metadata": {},
   "outputs": [
    {
     "name": "stdout",
     "output_type": "stream",
     "text": [
      "0 / 20000\n",
      "1000 / 20000\n",
      "2000 / 20000\n",
      "3000 / 20000\n",
      "4000 / 20000\n",
      "5000 / 20000\n",
      "6000 / 20000\n",
      "7000 / 20000\n",
      "8000 / 20000\n",
      "9000 / 20000\n",
      "10000 / 20000\n",
      "11000 / 20000\n",
      "12000 / 20000\n",
      "13000 / 20000\n",
      "14000 / 20000\n",
      "15000 / 20000\n",
      "16000 / 20000\n",
      "17000 / 20000\n",
      "18000 / 20000\n",
      "19000 / 20000\n"
     ]
    }
   ],
   "source": [
    "max_steps = 20000\n",
    "batch_size = 32\n",
    "lossi = []\n",
    "n = batch_size # a shorter variable also, for convenience\n",
    "\n",
    "\n",
    "for i in range(max_steps):\n",
    "\n",
    "    if i % 1000 == 0:\n",
    "        print(f'{i} / {max_steps}')\n",
    "\n",
    "    #batch construction\n",
    "    ix = torch.randint(0, Xtr.shape[0], (batch_size,))\n",
    "    Xb, Yb = Xtr[ix], Ytr[ix] # batch X,Y\n",
    "\n",
    "    #forward pass - should be optimized \n",
    "    emb = C[Xb]\n",
    "    x = emb.view(emb.shape[0],  -1) #change the shape of the embedding \n",
    "    \n",
    "    \"We want to stack the embeddings to so that we concatenatve all 3 letters into one row\"\n",
    "    for layer in layers: \n",
    "        x = layer(x) \n",
    "\n",
    "    #Calculate the loss\n",
    "    loss = F.cross_entropy(x, Yb)\n",
    "\n",
    "      \n",
    "    # This is for storing the gradients for additional investigations\n",
    "    # for layer in layers:\n",
    "    #     layer.out.retain_grad() # This is for gathering stats below. When done with debugging we can turn this off.\n",
    "\n",
    "\n",
    "    #re-set the gradients prior to calculating the loss\n",
    "    for p in parameters:\n",
    "        p.grad = None\n",
    "\n",
    "    #backward pass\n",
    "    loss.backward()\n",
    "\n",
    "    # update data with learning rate times the gradients. \n",
    "    lr = 0.1 if i < 150000 else 0.01 # step learning rate decay\n",
    "    for p in parameters:\n",
    "        p.data += -lr * p.grad\n",
    "\n",
    "    #Track the loss information, make sure to grab the item itself!\n",
    "    lossi.append(loss.log10().item())"
   ]
  },
  {
   "cell_type": "markdown",
   "metadata": {},
   "source": [
    "## Lets improve our layer structures\n",
    "- build embedding layers and embedding layer look up\n",
    "- pytorchify the viewing option"
   ]
  },
  {
   "cell_type": "code",
   "execution_count": null,
   "metadata": {},
   "outputs": [],
   "source": []
  },
  {
   "cell_type": "code",
   "execution_count": 11,
   "metadata": {},
   "outputs": [
    {
     "data": {
      "text/plain": [
       "[<matplotlib.lines.Line2D at 0x7fe9e2ed8e80>]"
      ]
     },
     "execution_count": 11,
     "metadata": {},
     "output_type": "execute_result"
    },
    {
     "data": {
      "image/png": "[encoded data removed]",
      "text/plain": [
       "<Figure size 640x480 with 1 Axes>"
      ]
     },
     "metadata": {},
     "output_type": "display_data"
    }
   ],
   "source": [
    "#Show the plot for the loss \n",
    "plt.plot(lossi)\n"
   ]
  },
  {
   "cell_type": "code",
   "execution_count": 12,
   "metadata": {},
   "outputs": [
    {
     "data": {
      "text/plain": [
       "[<matplotlib.lines.Line2D at 0x7fe9e3123af0>]"
      ]
     },
     "execution_count": 12,
     "metadata": {},
     "output_type": "execute_result"
    },
    {
     "data": {
      "image/png": "[encoded data removed]",
      "text/plain": [
       "<Figure size 640x480 with 1 Axes>"
      ]
     },
     "metadata": {},
     "output_type": "display_data"
    }
   ],
   "source": [
    "#Loss i plot improvements\n",
    "plt.plot(torch.tensor(lossi).view(-1,1000).mean(1))"
   ]
  },
  {
   "cell_type": "code",
   "execution_count": 13,
   "metadata": {},
   "outputs": [],
   "source": [
    "#Lets go into eval mode.\n",
    "for layer in layers:\n",
    "    layer.training = False\n",
    "\n"
   ]
  },
  {
   "cell_type": "code",
   "execution_count": 14,
   "metadata": {},
   "outputs": [
    {
     "name": "stdout",
     "output_type": "stream",
     "text": [
      "train  ---  2.127512216567993\n",
      "val  ---  2.1597342491149902\n"
     ]
    }
   ],
   "source": [
    "#Evaluation set performance\n",
    "@torch.no_grad\n",
    "\n",
    "def split_specific_loss(split):\n",
    "    \n",
    "    x, y = {\n",
    "        'train': (Xtr, Ytr), \n",
    "        'val': (Xdev, Ydev),\n",
    "        'test': (Xtest, Ytest)\n",
    "    }[split]\n",
    "\n",
    "    #use the trained C\n",
    "    emb = C[x]\n",
    "\n",
    "    x = emb.view(emb.shape[0], -1)\n",
    "\n",
    "    for layer in layers: \n",
    "        x = layer(x)\n",
    "\n",
    "    loss = F.cross_entropy(x,y)\n",
    "\n",
    "    print(f'{split}  ---  {loss}')\n",
    "\n",
    "split_specific_loss('train')\n",
    "\n",
    "split_specific_loss('val')\n"
   ]
  },
  {
   "cell_type": "code",
   "execution_count": 15,
   "metadata": {},
   "outputs": [
    {
     "name": "stdout",
     "output_type": "stream",
     "text": [
      "sayia.\n",
      "marrice.\n",
      "oditlyn.\n",
      "dey.\n",
      "make.\n",
      "jer.\n",
      "tayshamiean.\n",
      "sali.\n",
      "esse.\n",
      "trekiah.\n",
      "baynah.\n",
      "eziah.\n",
      "mizoldeine.\n",
      "rari.\n",
      "darmarion.\n",
      "rode.\n",
      "lana.\n",
      "ty.\n",
      "yolamin.\n",
      "xyance.\n"
     ]
    }
   ],
   "source": [
    "#Lets sample from the model\n",
    "\n",
    "\n",
    "for _ in range(20):\n",
    "\n",
    "    output = []\n",
    "\n",
    "    context = [0] * block_size\n",
    "\n",
    "    while True: \n",
    "\n",
    "        emb = C[torch.tensor([context])]\n",
    "        x = emb.view(emb.shape[0], -1)\n",
    "\n",
    "        for layer in layers: \n",
    "            x  = layer(x)\n",
    "\n",
    "        logits = x\n",
    "\n",
    "        #print(f'This is the logits shape: {logits.shape}')\n",
    "        probs = F.softmax(logits, dim = 1) #normalized\n",
    "\n",
    "        ix = torch.multinomial(probs, num_samples = 1).item()\n",
    "\n",
    "        context = context[1:] + [ix]\n",
    "        output.append(ix)\n",
    "\n",
    "        if ix == 0:\n",
    "            break\n",
    "    \n",
    "    print(''.join(itos[ix] for ix in output))\n",
    "\n",
    "\n",
    "\n",
    "\n",
    "\n",
    "\n",
    "\n",
    "\n"
   ]
  },
  {
   "cell_type": "code",
   "execution_count": 16,
   "metadata": {},
   "outputs": [
    {
     "ename": "AttributeError",
     "evalue": "module 'torch.nn.functional' has no attribute 'softmaxlogits'",
     "output_type": "error",
     "traceback": [
      "\u001b[0;31m---------------------------------------------------------------------------\u001b[0m",
      "\u001b[0;31mAttributeError\u001b[0m                            Traceback (most recent call last)",
      "Cell \u001b[0;32mIn[16], line 1\u001b[0m\n\u001b[0;32m----> 1\u001b[0m \u001b[38;5;241m-\u001b[39m\u001b[43mF\u001b[49m\u001b[38;5;241;43m.\u001b[39;49m\u001b[43msoftmaxlogits\u001b[49m\n",
      "\u001b[0;31mAttributeError\u001b[0m: module 'torch.nn.functional' has no attribute 'softmaxlogits'"
     ]
    }
   ],
   "source": [
    "-F.softmaxlogits"
   ]
  },
  {
   "cell_type": "code",
   "execution_count": null,
   "metadata": {},
   "outputs": [],
   "source": []
  }
 ],
 "metadata": {
  "kernelspec": {
   "display_name": "a-alpha-conda",
   "language": "python",
   "name": "python3"
  },
  "language_info": {
   "codemirror_mode": {
    "name": "ipython",
    "version": 3
   },
   "file_extension": ".py",
   "mimetype": "text/x-python",
   "name": "python",
   "nbconvert_exporter": "python",
   "pygments_lexer": "ipython3",
   "version": "3.10.14"
  }
 },
 "nbformat": 4,
 "nbformat_minor": 2
}
