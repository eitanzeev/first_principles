{
 "cells": [
  {
   "cell_type": "code",
   "execution_count": 32,
   "metadata": {},
   "outputs": [],
   "source": [
    "##Create train, dev/val,test\n",
    "import torch\n",
    "import torch.nn.functional as F\n",
    "import matplotlib.pyplot as plt\n",
    "import random\n",
    "%matplotlib inline"
   ]
  },
  {
   "cell_type": "code",
   "execution_count": 33,
   "metadata": {},
   "outputs": [],
   "source": [
    "\n",
    "words = open('names.txt', 'r').read().splitlines()\n",
    "random.seed(42)\n",
    "random.shuffle(words)\n",
    "\n",
    "chars = sorted(list(set(''.join(words))))\n",
    "stoi = {s:i+1 for i, s in enumerate(chars)}\n",
    "stoi['.'] = 0\n",
    "itos = {i:s for s, i in stoi.items()}\n",
    "\n",
    "#Building the dataset - very similar to the trigram construction but dynamic\n",
    "def prepare_data(data, block_size):\n",
    "\n",
    "    block_size = block_size #alternative for context length\n",
    "\n",
    "    X, Y = [], []\n",
    "\n",
    "    for w in data:\n",
    "\n",
    "        #print(w, '--- word of interest')\n",
    "        context = [0] * block_size #How many characters to consider from the left to the right\n",
    "        for ch in w + '.': #adding end word\n",
    "            \n",
    "            ix = stoi[ch]\n",
    "\n",
    "            X.append(context)\n",
    "            Y.append(ix)\n",
    "\n",
    "            #print(''.join(itos[i] for i in context), '--->', itos[ix])\n",
    "\n",
    "            context = context[1:] + [ix] #context is redefined as a new list and we move the window to the right\n",
    "\n",
    "\n",
    "    X = torch.tensor(X)\n",
    "    Y = torch.tensor(Y)\n",
    "\n",
    "    return X, Y"
   ]
  },
  {
   "cell_type": "code",
   "execution_count": 34,
   "metadata": {},
   "outputs": [],
   "source": [
    "train_limit = int(0.8*len(words))\n",
    "dev_limit = int(0.9*len(words))\n",
    "block_size = 3\n",
    "\n",
    "Xtr, Ytr = prepare_data(words[:train_limit], block_size = block_size)\n",
    "Xdev, Ydev = prepare_data(words[train_limit:dev_limit], block_size = block_size)\n",
    "Xtest, Ytest = prepare_data(words[dev_limit:], block_size = block_size)"
   ]
  },
  {
   "cell_type": "markdown",
   "metadata": {},
   "source": [
    "_______________"
   ]
  },
  {
   "cell_type": "markdown",
   "metadata": {},
   "source": [
    "Now to the actual challenges"
   ]
  },
  {
   "cell_type": "code",
   "execution_count": 35,
   "metadata": {},
   "outputs": [],
   "source": [
    "# utility function we will use later when comparing manual gradients to PyTorch gradients\n",
    "def cmp(s, dt, t):\n",
    "  ex = torch.all(dt == t.grad).item()\n",
    "  app = torch.allclose(dt, t.grad)\n",
    "  maxdiff = (dt - t.grad).abs().max().item()\n",
    "  print(f'{s:15s} | exact: {str(ex):5s} | approximate: {str(app):5s} | maxdiff: {maxdiff}')"
   ]
  },
  {
   "cell_type": "code",
   "execution_count": 36,
   "metadata": {},
   "outputs": [
    {
     "name": "stdout",
     "output_type": "stream",
     "text": [
      "4137\n"
     ]
    }
   ],
   "source": [
    "n_embd = 10 # the dimensionality of the character embedding vectors\n",
    "n_hidden = 64 # the number of neurons in the hidden layer of the MLP\n",
    "vocab_size = len(stoi.keys())\n",
    "g = torch.Generator().manual_seed(2147483647) # for reproducibility\n",
    "C  = torch.randn((vocab_size, n_embd),            generator=g)\n",
    "# Layer 1\n",
    "W1 = torch.randn((n_embd * block_size, n_hidden), generator=g) * (5/3)/((n_embd * block_size)**0.5)\n",
    "b1 = torch.randn(n_hidden,                        generator=g) * 0.1 # using b1 just for fun, it's useless because of BN\n",
    "# Layer 2\n",
    "W2 = torch.randn((n_hidden, vocab_size),          generator=g) * 0.1\n",
    "b2 = torch.randn(vocab_size,                      generator=g) * 0.1\n",
    "\n",
    "\n",
    "# BatchNorm parameters\n",
    "bngain = torch.randn((1, n_hidden))*0.1 + 1.0\n",
    "bnbias = torch.randn((1, n_hidden))*0.1\n",
    "\n",
    "\"\"\"\n",
    "    if self.training:\n",
    "      xmean = x.mean(0, keepdim=True) # batch mean\n",
    "      xvar = x.var(0, keepdim=True) # batch variance\n",
    "    else:\n",
    "      xmean = self.running_mean\n",
    "      xvar = self.running_var\n",
    "      \n",
    "    xhat = (x - xmean) / torch.sqrt(xvar + self.eps) # normalize to unit variance\n",
    "    self.out = self.gamma * xhat + self.beta \n",
    "    \n",
    "\"\"\"\n",
    "\n",
    "# Note: I am initializating many of these parameters in non-standard ways\n",
    "# because sometimes initializating with e.g. all zeros could mask an incorrect\n",
    "# implementation of the backward pass.\n",
    "\n",
    "parameters = [C, W1, b1, W2, b2, bngain, bnbias]\n",
    "print(sum(p.nelement() for p in parameters)) # number of parameters in total\n",
    "for p in parameters:\n",
    "  p.requires_grad = True"
   ]
  },
  {
   "cell_type": "code",
   "execution_count": 37,
   "metadata": {},
   "outputs": [],
   "source": [
    "batch_size = 32\n",
    "n = batch_size # a shorter variable also, for convenience\n",
    "# construct a minibatch\n",
    "ix = torch.randint(0, Xtr.shape[0], (batch_size,), generator=g)\n",
    "Xb, Yb = Xtr[ix], Ytr[ix] # batch X,Y"
   ]
  },
  {
   "cell_type": "code",
   "execution_count": 38,
   "metadata": {},
   "outputs": [
    {
     "data": {
      "text/plain": [
       "torch.Size([32, 3, 10])"
      ]
     },
     "execution_count": 38,
     "metadata": {},
     "output_type": "execute_result"
    }
   ],
   "source": [
    "C[Xb].shape"
   ]
  },
  {
   "cell_type": "code",
   "execution_count": 113,
   "metadata": {},
   "outputs": [
    {
     "name": "stdout",
     "output_type": "stream",
     "text": [
      "This is the loss with autograd: 3.3577394485473633\n"
     ]
    }
   ],
   "source": [
    "# forward pass, \"chunkated\" into smaller steps that are possible to backward one at a time\n",
    "\n",
    "emb = C[Xb] # embed the characters into vectors\n",
    "embcat = emb.view(emb.shape[0], -1) # concatenate the vectors\n",
    "\n",
    "# Linear layer 1\n",
    "hprebn = embcat @ W1 + b1 # hidden layer pre-activation\n",
    "\n",
    "\n",
    "# BatchNorm layer\n",
    "bnmeani = 1/n*hprebn.sum(0, keepdim=True)\n",
    "bndiff = hprebn - bnmeani\n",
    "bndiff2 = bndiff**2\n",
    "bnvar = 1/(n-1)*(bndiff2).sum(0, keepdim=True) # note: Bessel's correction (dividing by n-1, not n)\n",
    "bnvar_inv = (bnvar + 1e-5)**-0.5\n",
    "bnraw = bndiff * bnvar_inv\n",
    "hpreact = bngain * bnraw + bnbias #self.gamma *xhat + self.beta\n",
    "\n",
    "# Non-linearity\n",
    "h = torch.tanh(hpreact) # hidden layer\n",
    "\n",
    "# Linear layer 2\n",
    "logits = h @ W2 + b2 # output layer\n",
    "\n",
    "\n",
    "# cross entropy loss (same as F.cross_entropy(logits, Yb), except this time it is explicit)\n",
    "logit_maxes = logits.max(1, keepdim=True).values\n",
    "norm_logits = logits - logit_maxes # subtract max for numerical stability\n",
    "counts = norm_logits.exp()\n",
    "counts_sum = counts.sum(1, keepdims=True)\n",
    "counts_sum_inv = counts_sum**-1 # if I use (1.0 / counts_sum) instead then I can't get backprop to be bit exact...\n",
    "probs = counts * counts_sum_inv #be careful of broadcasting\n",
    "logprobs = probs.log()\n",
    "loss = -logprobs[range(n), Yb].mean()\n",
    "\n",
    "# PyTorch backward pass\n",
    "for p in parameters:\n",
    "  p.grad = None\n",
    "for t in [logprobs, probs, counts, counts_sum, counts_sum_inv, # afaik there is no cleaner way\n",
    "          norm_logits, logit_maxes, logits, h, hpreact, bnraw,\n",
    "         bnvar_inv, bnvar, bndiff2, bndiff, hprebn, bnmeani,\n",
    "         embcat, emb]:\n",
    "  t.retain_grad()\n",
    "loss.backward()\n",
    "print(f\"This is the loss with autograd: {loss}\")"
   ]
  },
  {
   "cell_type": "code",
   "execution_count": 114,
   "metadata": {},
   "outputs": [
    {
     "data": {
      "text/plain": [
       "torch.Size([32])"
      ]
     },
     "execution_count": 114,
     "metadata": {},
     "output_type": "execute_result"
    }
   ],
   "source": [
    "logprobs[range(n), Yb].shape"
   ]
  },
  {
   "cell_type": "code",
   "execution_count": 115,
   "metadata": {},
   "outputs": [
    {
     "name": "stdout",
     "output_type": "stream",
     "text": [
      "Shapes of counts:torch.Size([32, 27]) and counts_sum_inv:torch.Size([32, 1])\n",
      "       are different implying broadcasting.\n"
     ]
    }
   ],
   "source": [
    "#The case of counts_sum_inv is tricky. \n",
    "print(f\"\"\"Shapes of counts:{counts.shape} and counts_sum_inv:{counts_sum_inv.shape}\n",
    "       are different implying broadcasting.\"\"\")\n",
    "\n",
    "#With broadcasting we need to make sure we sum along the same broadcast axis (that used in summing)\n",
    "\n",
    "#Hence we use (counts * dprobs).sum(1, keepdim = True)"
   ]
  },
  {
   "cell_type": "code",
   "execution_count": 116,
   "metadata": {},
   "outputs": [
    {
     "data": {
      "text/plain": [
       "'\\nc = a * b but with tensors:\\n#a[3x3] * b[3,1]\\na11*b1, a12 *b1, a13 *b1\\na21 *b2, a22 * b2, a23*b2\\na31 * b3, a32 * b3, a33*b3\\n\\n\\n'"
      ]
     },
     "execution_count": 116,
     "metadata": {},
     "output_type": "execute_result"
    }
   ],
   "source": [
    "\"\"\"\n",
    "c = a * b but with tensors:\n",
    "#a[3x3] * b[3,1]\n",
    "a11*b1, a12 *b1, a13 *b1\n",
    "a21 *b2, a22 * b2, a23*b2\n",
    "a31 * b3, a32 * b3, a33*b3\n",
    "\n",
    "\n",
    "\"\"\""
   ]
  },
  {
   "cell_type": "markdown",
   "metadata": {},
   "source": [
    "### Warm up for exercise 1"
   ]
  },
  {
   "cell_type": "code",
   "execution_count": 124,
   "metadata": {},
   "outputs": [
    {
     "data": {
      "text/plain": [
       "torch.Size([32, 64])"
      ]
     },
     "execution_count": 124,
     "metadata": {},
     "output_type": "execute_result"
    }
   ],
   "source": [
    "hprebn.shape"
   ]
  },
  {
   "cell_type": "code",
   "execution_count": 127,
   "metadata": {},
   "outputs": [
    {
     "name": "stdout",
     "output_type": "stream",
     "text": [
      "logprobs        | exact: True  | approximate: True  | maxdiff: 0.0\n",
      "probs           | exact: True  | approximate: True  | maxdiff: 0.0\n",
      "counts_sum_inv  | exact: True  | approximate: True  | maxdiff: 0.0\n",
      "dcounts_sum     | exact: True  | approximate: True  | maxdiff: 0.0\n",
      "dcounts         | exact: True  | approximate: True  | maxdiff: 0.0\n",
      "dnorm_logits    | exact: True  | approximate: True  | maxdiff: 0.0\n",
      "dlogit_maxes    | exact: True  | approximate: True  | maxdiff: 0.0\n",
      "dlogits         | exact: True  | approximate: True  | maxdiff: 0.0\n",
      "dh              | exact: True  | approximate: True  | maxdiff: 0.0\n",
      "dW2             | exact: True  | approximate: True  | maxdiff: 0.0\n",
      "db2             | exact: True  | approximate: True  | maxdiff: 0.0\n",
      "dhpreact        | exact: True  | approximate: True  | maxdiff: 0.0\n",
      "dbngain         | exact: True  | approximate: True  | maxdiff: 0.0\n",
      "dbnraw          | exact: True  | approximate: True  | maxdiff: 0.0\n",
      "dbnbias         | exact: True  | approximate: True  | maxdiff: 0.0\n",
      "dbnvar_inv      | exact: True  | approximate: True  | maxdiff: 0.0\n",
      "dbnvar          | exact: True  | approximate: True  | maxdiff: 0.0\n",
      "dbndiff2        | exact: True  | approximate: True  | maxdiff: 0.0\n",
      "dbndiff         | exact: True  | approximate: True  | maxdiff: 0.0\n",
      "bnmeani         | exact: True  | approximate: True  | maxdiff: 0.0\n",
      "dhprebn         | exact: True  | approximate: True  | maxdiff: 0.0\n"
     ]
    }
   ],
   "source": [
    "#loss = -logprobs[range(n), Yb].mean()\n",
    "dlogprobs = torch.zeros_like(logprobs)\n",
    "dlogprobs[range(n), Yb] = -(n**-1) #mean = sum()/n_samples\n",
    "\n",
    "\n",
    "#logprobs = probs.log()\n",
    "dprobs = probs**-1 * dlogprobs\n",
    "\n",
    "#dcounts_sum_inv\n",
    "#probs = counts * counts_sum_inv #be careful of broadcasting, check what dcounts_sum_inv should be!\n",
    "dcounts_sum_inv = (counts * dprobs).sum(1, keepdims = True)\n",
    "\n",
    "dcounts_sum = dcounts_sum_inv * -1 * (counts_sum**-2)\n",
    "##counts is used in multiple operations\n",
    "#probs = counts * counts_sum_inv #be careful of broadcasting\n",
    "#counts_sum = counts.sum(1, keepdims=True)\n",
    "#counts_sum_inv = counts_sum**-1\n",
    "\n",
    "dcounts = (counts_sum_inv * dprobs) #will broadcast\n",
    "sample = dcounts_sum * torch.ones_like(counts)\n",
    "dcounts += sample \n",
    "\n",
    "#dnorm_logits\n",
    "#counts = norm_logits.exp()\n",
    "dnorm_logits = dcounts * norm_logits.exp()\n",
    "\n",
    "#norm_logits = logits - logit_maxes # subtract max for numerical stability\n",
    "#result of reverse broadcasting where gradients are branched from separate row values and flow to one single b\n",
    "dlogit_maxes = -1 * dnorm_logits.sum(1, keepdim = True) \n",
    "\n",
    "\n",
    "#dlogits \n",
    "#logits.max(1, keepdim=True).values\n",
    "#logits.max() returns (maximum value, position of maximum value). Can use indexing to get position\n",
    "dlogits = F.one_hot(logits.max(1).indices, num_classes = logits.shape[1]) * dlogit_maxes\n",
    "dlogits += 1 * dnorm_logits\n",
    "\n",
    "\n",
    "#dh logits = h@ W2 + b2\n",
    "dh = dlogits@W2.T\n",
    "\n",
    "#dW2 logits = h@W2 + b2\n",
    "dW2 = h.T @ dlogits\n",
    "\n",
    "#db2 logits = h@W2 + b2\n",
    "db2 = dlogits.sum(0)\n",
    "\n",
    "#h = torch.tanh(hpreact) # hidden layer\n",
    "dhpreact = (1-torch.tanh(hpreact)**2)*dh\n",
    "\n",
    "#hpreact = bngain * bnraw + bnbias #self.gamma *xhat + self.beta\n",
    "dbngain = (bnraw*dhpreact).sum(0, keepdim = True) #element wise multiplication!\n",
    "dbnraw = bngain*dhpreact\n",
    "dbnbias = 1 * dhpreact.sum(0, keepdim = True)\n",
    "\n",
    "#bnraw = bndiff * bnvar_inv\n",
    "dbnvar_inv = (bndiff * dbnraw).sum(0, keepdim = True)\n",
    "\n",
    "#bnvar_inv = (bnvar + 1e-5)**-0.5\n",
    "dbnvar = dbnvar_inv * (-0.5*(bnvar+1e-5)**-1.5)\n",
    "\n",
    "#bndiff2 = bndiff**2\n",
    "dbndiff2 = dbnvar * (1/(n-1))\n",
    "\n",
    "#dbndiff\n",
    "dbndiff = dbnraw*bnvar_inv\n",
    "dbndiff += dbndiff2 * (2*bndiff)\n",
    "\n",
    "\n",
    "#bndiff = hprebn - bnmeani\n",
    "dbnmeani = -dbndiff.sum(0, keepdim = True)\n",
    "\n",
    "#dhprebn - bnmeani = 1/n*hprebn.sum(0, keepdim=True)\n",
    "#bndiff = hprebn - bnmeani\n",
    "dhprebn = 1*dbndiff\n",
    "sample = (torch.ones_like(hprebn) * (1/n)) \n",
    "dhprebn += sample * dbnmeani\n",
    "\n",
    "\n",
    "cmp('logprobs', dlogprobs, logprobs)\n",
    "cmp('probs', dprobs, probs)\n",
    "cmp('counts_sum_inv', dcounts_sum_inv, counts_sum_inv)\n",
    "cmp('dcounts_sum', dcounts_sum, counts_sum)\n",
    "cmp('dcounts', dcounts, counts)\n",
    "cmp('dnorm_logits', dnorm_logits, norm_logits)\n",
    "cmp('dlogit_maxes', dlogit_maxes, logit_maxes)\n",
    "cmp('dlogits',dlogits, logits)\n",
    "cmp('dh', dh, h)\n",
    "cmp('dW2', dW2, W2)\n",
    "cmp('db2',db2, b2)\n",
    "cmp('dhpreact', dhpreact, hpreact)\n",
    "cmp('dbngain', dbngain, bngain)\n",
    "cmp('dbnraw', dbnraw, bnraw)\n",
    "cmp('dbnbias', dbnbias, bnbias)\n",
    "cmp('dbnvar_inv', dbnvar_inv, bnvar_inv)\n",
    "cmp('dbnvar', dbnvar, bnvar)\n",
    "cmp('dbndiff2',dbndiff2, bndiff2)\n",
    "cmp('dbndiff',dbndiff,bndiff )\n",
    "cmp('bnmeani', dbnmeani, bnmeani)\n",
    "cmp('dhprebn',dhprebn, hprebn)\n",
    "\n",
    "\n",
    "\n"
   ]
  },
  {
   "cell_type": "code",
   "execution_count": 88,
   "metadata": {},
   "outputs": [
    {
     "name": "stdout",
     "output_type": "stream",
     "text": [
      "logprobs        | exact: True  | approximate: True  | maxdiff: 0.0\n",
      "probs           | exact: True  | approximate: True  | maxdiff: 0.0\n",
      "counts_sum_inv  | exact: True  | approximate: True  | maxdiff: 0.0\n",
      "counts_sum      | exact: True  | approximate: True  | maxdiff: 0.0\n",
      "counts          | exact: True  | approximate: True  | maxdiff: 0.0\n",
      "norm_logits     | exact: True  | approximate: True  | maxdiff: 0.0\n",
      "____________________________\n",
      "Norm logits shapetorch.Size([32, 27]), Logits shape: torch.Size([32, 27]), Logit maxes shape: torch.Size([32, 1])\n",
      "logit_maxes     | exact: True  | approximate: True  | maxdiff: 0.0\n",
      "_______________________\n",
      "logits          | exact: True  | approximate: True  | maxdiff: 0.0\n"
     ]
    }
   ],
   "source": [
    "# Exercise 1: backprop through the whole thing manually, \n",
    "# backpropagating through exactly all of the variables \n",
    "# as they are defined in the forward pass above, one by one\n",
    "\n",
    "dlogprobs = torch.zeros_like(logprobs) #We only care about the gradients used in calculating loss which are the 32 character representations\n",
    "dlogprobs[range(n), Yb] =  -(n**-1)\n",
    "cmp('logprobs', dlogprobs, logprobs)\n",
    "\n",
    "\n",
    "dprobs = dlogprobs*probs**-1\n",
    "cmp('probs', dprobs, probs)\n",
    "\n",
    "dcounts_sum_inv = (counts*dprobs).sum(1, keepdim= True) #we have to sum along here to match the dimensions of counts_sum_inv\n",
    "cmp('counts_sum_inv', dcounts_sum_inv, counts_sum_inv)\n",
    "\n",
    "dcounts_sum = (-1* counts_sum**-2) * dcounts_sum_inv\n",
    "cmp('counts_sum', dcounts_sum, counts_sum)\n",
    "\n",
    "\n",
    "##Counts is tricky because we need to approach the derivative from both sides of the graph\n",
    "dcounts = (counts_sum_inv * dprobs) #broadcasting will expand counts_sum_inv automatically. We don't need to worry about the derivatives\n",
    "#dcounts should be [32,27]\n",
    "\n",
    "\n",
    "# We need to be careful here! Check the sizes of dcounts_sum and the first branch of dcounts!\n",
    "#We want to add dcounts_sum to dcounts but we need to make sure we that we match the size so we repeat it 27 times use torch.ones_like()\n",
    "#  Make sure to double count\n",
    "sample = torch.ones_like(counts)\n",
    "sample = dcounts_sum * sample\n",
    "dcounts += sample\n",
    "cmp('counts', dcounts, counts)\n",
    "\n",
    "#Include the chain rule\n",
    "dnorm_logits = norm_logits.exp() * dcounts\n",
    "cmp('norm_logits', dnorm_logits, norm_logits)\n",
    "\n",
    "\n",
    "print(\"____________________________\")\n",
    "print(f\"Norm logits shape{norm_logits.shape}, Logits shape: {logits.shape}, Logit maxes shape: {logit_maxes.shape}\")\n",
    "\n",
    "\n",
    "\"\"\"There is broadcasting with the minus at logits - logits_max\n",
    "\n",
    "c11 c12 c13 = a11 a12 a13        b1\n",
    "c21 c22 c23 = a21 a22 a23    -   b2\n",
    "c31 c32 c33 = a31 a32 a33        b3\n",
    "\n",
    "c32 = a32 - b3\n",
    "\n",
    "\"\"\"\n",
    "\n",
    "dlogit_maxes = (-1 *  dnorm_logits.sum(1, keepdim = True))#keepdim not to destroy dimensions\n",
    "cmp('logit_maxes', dlogit_maxes, logit_maxes)\n",
    "\n",
    "print(\"_______________________\")\n",
    "\n",
    "#Logits is complicated because there are two streams one through logit_maxes and the other through logits!\n",
    "dlogits = (1 * dnorm_logits)\n",
    "\n",
    "\"\"\"We need to find the derivative for the maximum values chosen from logits rows \"\"\"\n",
    "dlogits += F.one_hot(logits.max(1).indices, num_classes = logits.shape[1]) * dlogit_maxes\n",
    "\n",
    "#alternative\n",
    "# new_sample = torch.zeros_like(logits)\n",
    "# new_sample[range(n), Yb] = 1.0\n",
    "\n",
    "# dlogits += new_sample * dlogit_maxes\n",
    "cmp('logits', dlogits, logits)\n"
   ]
  },
  {
   "cell_type": "markdown",
   "metadata": {},
   "source": [
    "### Output layer"
   ]
  },
  {
   "cell_type": "code",
   "execution_count": null,
   "metadata": {},
   "outputs": [],
   "source": [
    "#Linear Layer 2\n",
    "dh = dlogits @ W2.T #shapes indicate how to match dlogits with W2 and h\n",
    "cmp('h', dh, h)\n",
    "dW2 = h.T @ dlogits\n",
    "cmp('W2', dW2, W2)\n",
    "db2 = dlogits.sum(0)\n",
    "cmp('b2', db2, b2)\n"
   ]
  },
  {
   "cell_type": "markdown",
   "metadata": {},
   "source": [
    "### Non-linear layer (tanh activation layer for us)"
   ]
  },
  {
   "cell_type": "code",
   "execution_count": null,
   "metadata": {},
   "outputs": [],
   "source": [
    "# Non-linearity\n",
    "import math\n",
    "dhpreact = dh * (1.0-torch.tanh(hpreact)**2) #derivative of tanh(a) = 1 - torch.tanh(a)**2\n",
    "cmp('hpreact', dhpreact, hpreact)"
   ]
  },
  {
   "cell_type": "markdown",
   "metadata": {},
   "source": [
    "### Batch normalization layer"
   ]
  },
  {
   "cell_type": "code",
   "execution_count": null,
   "metadata": {},
   "outputs": [],
   "source": [
    "bnraw.shape, bngain.shape, bnbias.shape,  dhpreact.shape"
   ]
  },
  {
   "cell_type": "code",
   "execution_count": null,
   "metadata": {},
   "outputs": [],
   "source": [
    "bnvar_inv.shape, bndiff.shape, bnraw.shape, bnvar.shape"
   ]
  },
  {
   "cell_type": "code",
   "execution_count": null,
   "metadata": {},
   "outputs": [],
   "source": [
    "#Reference: hpreact = bngain * bnraw + bnbias #self.gamma *xhat + self.beta\n",
    "dbngain = (bnraw * dhpreact).sum(0, keepdim = True) #make sure the shapes match. bngain is 1,64!\n",
    "cmp('bngain', dbngain, bngain)\n",
    "\n",
    "dbnbias = dhpreact.sum(0, keepdim=True)\n",
    "cmp('bnbias', dbnbias, bnbias)\n",
    "\n",
    "dbnraw = dhpreact * bngain #broadcasting should take care of this.\n",
    "cmp('bnraw', dbnraw, bnraw)\n",
    "\n",
    "dbnvar_inv = (bndiff * dbnraw).sum(0, keepdim = True) #check sizes above and see that we have to sum along the first axis\n",
    "cmp('bnvar_inv', dbnvar_inv, bnvar_inv)\n",
    "\n",
    "dbnvar = dbnvar_inv * (-0.5*(bnvar+1e-5)**-1.5)\n",
    "print(dbnvar.shape)\n",
    "cmp('bnvar', dbnvar, bnvar)\n",
    "\n",
    "dbndiff2 = dbnvar * (1/(n-1))\n",
    "cmp('bndiff2', dbndiff2, bndiff2)\n",
    "\n",
    "dbndiff = bnvar_inv * dbnraw #multiple channel 1 coming from bnraw = bndiff * bnvar_inv\n",
    "dbndiff += dbndiff2 * (2*bndiff**1) #multiple channle 2 coming from below\n",
    "\"\"\"Channel 2 - we see that bnvar_inv is also due to bndiff\n",
    "bndiff2 = bndiff**2\n",
    "bnvar = 1/(n-1)*(bndiff2).sum(0, keepdim=True) # note: Bessel's correction (dividing by n-1, not n)\n",
    "bnvar_inv = (bnvar + 1e-5)**-0.5\n",
    "bnraw = bndiff * bnvar_inv\n",
    "\"\"\"\n",
    "cmp('bndiff', dbndiff, bndiff)\n",
    "\n",
    "#dbnmeani = hprebn - bnmeani\n",
    "dbnmeani = -dbndiff.sum(0, keepdim = True)\n",
    "cmp('bnmeani', dbnmeani, bnmeani)"
   ]
  },
  {
   "cell_type": "markdown",
   "metadata": {},
   "source": [
    "#### First layer"
   ]
  },
  {
   "cell_type": "code",
   "execution_count": null,
   "metadata": {},
   "outputs": [],
   "source": [
    "C[:4]"
   ]
  },
  {
   "cell_type": "code",
   "execution_count": null,
   "metadata": {},
   "outputs": [],
   "source": [
    "C[Xb[0]]"
   ]
  },
  {
   "cell_type": "code",
   "execution_count": null,
   "metadata": {},
   "outputs": [],
   "source": [
    "# cmp('C', dC, C)\n",
    "\n",
    "dhprebn = 1 * dbndiff #bndiff = hprebn - bnmeani\n",
    "sample = torch.ones_like(hprebn) * dbnmeani #Replicate here to take care of the sum in forward pass :) :) :-)\n",
    "dhprebn += (1/n) * sample #1/n*hprebn.sum(0, keepdim = True), this needs to be reversed broadcasted out\n",
    "cmp('hprebn', dhprebn, hprebn)\n",
    "\n",
    "#Same shapes, no broadcasting necessary\n",
    "dembcat = dhprebn @ W1.T #dlogits @ W1.T from matrix derivatives earlier\n",
    "cmp('embcat', dembcat, embcat)\n",
    "\n",
    "#same shapes, no broadcasting necessary\n",
    "dW1 = embcat.T @ dhprebn #h.T @ dlogits from matrix derivatives earlier\n",
    "cmp('W1', dW1, W1)\n",
    "\n",
    "#Same shapes, no broadcasting necessary\n",
    "db1 = dhprebn.sum(0) #no keepdims because the size of b1 is just torch.tensor([64])\n",
    "cmp('b1', db1, b1)\n",
    "\n",
    "#Remember you are \"undoing\" the transformation on dembcat, not demb\n",
    "demb = dembcat.view(emb.shape[0], 3, -1) #embcat = emb.view(emb.shape[0], -1)\n",
    "cmp('demb', demb, emb)\n",
    "\n",
    "\n",
    "\"\"\"\n",
    "Gradients are now added back to the look up table providing our embeddings!\n",
    "Remember that gradients from different appearances should sum together at the same embedding representation\n",
    "\"\"\"\n",
    "\n",
    "dC = torch.zeros_like(C)\n",
    "for k in range(Xb.shape[0]):\n",
    "    for j in range(Xb.shape[1]):\n",
    "        ix = Xb[k][j]\n",
    "        dC[ix] += demb[k,j] #multiple occurrences!\n",
    "cmp('C', dC, C)"
   ]
  },
  {
   "cell_type": "markdown",
   "metadata": {},
   "source": []
  },
  {
   "cell_type": "markdown",
   "metadata": {},
   "source": [
    "#### Exercise 2: Backpropagating through batch normalization like a normal person."
   ]
  },
  {
   "cell_type": "markdown",
   "metadata": {},
   "source": [
    "# Exercise 2:\n",
    "backprop through cross_entropy but all in one go\n",
    "to complete this challenge look at the mathematical expression of the loss,\n",
    "take the derivative, simplify the expression, and just write it out\n",
    "\n"
   ]
  },
  {
   "cell_type": "code",
   "execution_count": null,
   "metadata": {},
   "outputs": [],
   "source": [
    "# forward pass\n",
    "\n",
    "# before:\n",
    "# logit_maxes = logits.max(1, keepdim=True).values\n",
    "# norm_logits = logits - logit_maxes # subtract max for numerical stability\n",
    "# counts = norm_logits.exp()\n",
    "# counts_sum = counts.sum(1, keepdims=True)\n",
    "# counts_sum_inv = counts_sum**-1 # if I use (1.0 / counts_sum) instead then I can't get backprop to be bit exact...\n",
    "# probs = counts * counts_sum_inv\n",
    "# logprobs = probs.log()\n",
    "# loss = -logprobs[range(n), Yb].mean()\n",
    "\n",
    "# now:\n",
    "loss_fast = F.cross_entropy(logits, Yb)\n",
    "print(loss_fast.item(), 'diff:', (loss_fast - loss).item())"
   ]
  }
 ],
 "metadata": {
  "kernelspec": {
   "display_name": "a-alpha-conda",
   "language": "python",
   "name": "python3"
  },
  "language_info": {
   "codemirror_mode": {
    "name": "ipython",
    "version": 3
   },
   "file_extension": ".py",
   "mimetype": "text/x-python",
   "name": "python",
   "nbconvert_exporter": "python",
   "pygments_lexer": "ipython3",
   "version": "3.10.14"
  }
 },
 "nbformat": 4,
 "nbformat_minor": 2
}
