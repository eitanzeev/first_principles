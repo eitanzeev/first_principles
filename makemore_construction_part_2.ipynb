{
 "cells": [
  {
   "cell_type": "markdown",
   "metadata": {},
   "source": [
    "### Makemore Part 2"
   ]
  },
  {
   "cell_type": "code",
   "execution_count": 1,
   "metadata": {},
   "outputs": [],
   "source": [
    "import torch\n",
    "import torch.nn.functional as F\n",
    "import matplotlib.pyplot as plt\n",
    "%matplotlib inline\n"
   ]
  },
  {
   "cell_type": "code",
   "execution_count": null,
   "metadata": {},
   "outputs": [],
   "source": [
    "#read in all the words\n",
    "words = open('names.txt', 'r').read().splitlines()"
   ]
  },
  {
   "cell_type": "code",
   "execution_count": null,
   "metadata": {},
   "outputs": [],
   "source": [
    "chars = sorted(list(set(''.join(words))))\n",
    "stoi = {s:i for i, s in enumerate(chars)}\n",
    "stoi['.'] = 0\n",
    "itos = {i:s for s, i in stoi.items()}"
   ]
  },
  {
   "cell_type": "code",
   "execution_count": null,
   "metadata": {},
   "outputs": [],
   "source": [
    "#Building the dataset - very similar to the trigram construction but dynamic\n",
    "\n",
    "block_size = 3 #alternative for context length\n",
    "\n",
    "X, Y = [], []\n",
    "\n",
    "for w in words[:5]:\n",
    "\n",
    "    print(w, '--- word of interest')\n",
    "    context = [0] * block_size #How many characters to consider from the left to the right\n",
    "    for ch in w + '.': #adding end word\n",
    "        \n",
    "        ix = stoi[ch]\n",
    "\n",
    "        X.append(context)\n",
    "        Y.append(ix)\n",
    "\n",
    "        print(''.join(itos[i] for i in context), '--->', itos[ix])\n",
    "\n",
    "        context = context[1:] + [ix] #context is redefined as a new list and we move the window to the right\n",
    "\n",
    "\n",
    "X = torch.tensor(X)\n",
    "Y = torch.tensor(Y)"
   ]
  },
  {
   "cell_type": "code",
   "execution_count": null,
   "metadata": {},
   "outputs": [],
   "source": [
    "##look up table. \n",
    "##The column metric is showing how many \"features\" are contained within each vector\n",
    "C = torch.randn((27,2))\n",
    "\n",
    "#Can execute look ups with single integers (for one character retrieval at a time)\n",
    "embedding_of_char_5 = C[5]\n",
    "print(f\"Embedding of the char 5: {embedding_of_char_5}\")\n",
    "##Or\n",
    "#Can execute look ups with lists of integers and/or tensors to retrieve multiple embeddings to begin with\n",
    "embedding_of_chars_5_6_7 = C[torch.tensor([5,6,7])]\n",
    "\n",
    "print(f\"Embedding of the chars 5,6, and 7: {embedding_of_chars_5_6_7}\")"
   ]
  },
  {
   "cell_type": "code",
   "execution_count": null,
   "metadata": {},
   "outputs": [],
   "source": [
    "\"\"\" Using the method above we can get C[X] which represents\n",
    "    the 2 dimensional embeddings for each character stored in the Xn (32 for first 5 words) samples\n",
    "    of char sequences\n",
    "\"\"\""
   ]
  },
  {
   "cell_type": "code",
   "execution_count": null,
   "metadata": {},
   "outputs": [],
   "source": [
    "embedding = C[X]\n",
    "print(f\"embedding shape {embedding.shape}\")"
   ]
  },
  {
   "cell_type": "code",
   "execution_count": null,
   "metadata": {},
   "outputs": [],
   "source": [
    "print(f\"10th sample is chars: {X[10]}\")"
   ]
  },
  {
   "cell_type": "code",
   "execution_count": null,
   "metadata": {},
   "outputs": [],
   "source": [
    "print(f\"Embedding for the 10th sample should be dims(3 x2): {embedding[10]}\")\n",
    "print(\"This is showing the 2d embding representation of the characters in tensor above\")"
   ]
  },
  {
   "cell_type": "code",
   "execution_count": null,
   "metadata": {},
   "outputs": [],
   "source": [
    "W1 = torch.randn((6, 100)) #100 neurons [weights to be tuned]\n",
    "b1 = torch.randn(100)"
   ]
  },
  {
   "cell_type": "code",
   "execution_count": null,
   "metadata": {},
   "outputs": [],
   "source": [
    "#embedding[0] -> first example /trigram subset \"...\", \"..e\", \".em\"\n",
    "#embedding[0, 0,:] -> first 2 dimensional vector representation of the first character in the rigram subset\n",
    "#embedding[0,0,0] -> first vector value of 2D vector rep of the first character in the first example subset"
   ]
  },
  {
   "cell_type": "code",
   "execution_count": null,
   "metadata": {},
   "outputs": [],
   "source": [
    "embedding[:,0,:].shape #the first char of all Xn samples and it's full vector representation"
   ]
  },
  {
   "cell_type": "code",
   "execution_count": null,
   "metadata": {},
   "outputs": [],
   "source": [
    "#Now we concatenate embeddings of the different subsets to be one tensor for multiplication against the weights\n",
    "#torch.cat([embedding[:,0,:], embedding[:,1,:], embedding[:,2,:]],1).shape\n",
    "\n",
    "#Can also use\n",
    "#torch.cat(torch.unbind(embedding,1),1).shape \n",
    "\"\"\"\n",
    "#unbind removes a tensor dimension and returns a tuple of all slices along the dimension. \n",
    "# So here we are removing the 1th dimensionand returning all the tuples that were within that. \n",
    "# So here that would be collecting all character embedding groups per char into separate tensors for easier concatenation\n",
    "\"\"\"\n",
    "#Can also use view() which forces pytorch to change the view of the embedding to match input dimensions\n",
    "#embedding.view(32,6)\n",
    "\n",
    "#embedding.view(32,6) == torch.cat(torch.unbind(embedding,1),1), \"Double check your array manipulation\" #proving that the embeddng view and cat + unbind methods\n",
    "\n"
   ]
  },
  {
   "cell_type": "markdown",
   "metadata": {},
   "source": [
    "#### Hidden Layer creation"
   ]
  },
  {
   "cell_type": "code",
   "execution_count": null,
   "metadata": {},
   "outputs": [],
   "source": [
    "#Creating the hidden layer\n",
    "h = embedding.view(embedding.shape[0],6) @ W1 + b1 \n",
    "\n",
    "tanh = torch.tanh(h) #activation function"
   ]
  },
  {
   "cell_type": "code",
   "execution_count": null,
   "metadata": {},
   "outputs": [],
   "source": [
    "tanh.shape"
   ]
  },
  {
   "cell_type": "markdown",
   "metadata": {},
   "source": [
    "#### Now create the output layer"
   ]
  },
  {
   "cell_type": "code",
   "execution_count": null,
   "metadata": {},
   "outputs": [],
   "source": [
    "W2 = torch.randn([100,27]) #27 possible characters coming out\n",
    "b2 = torch.randn(27)"
   ]
  },
  {
   "cell_type": "code",
   "execution_count": null,
   "metadata": {},
   "outputs": [],
   "source": [
    "#Creating logits in final layer\n",
    "logits = tanh @ W2 + b2\n",
    "print(logits.shape)\n",
    "\n"
   ]
  },
  {
   "cell_type": "markdown",
   "metadata": {},
   "source": [
    "#### Now create the probabilistic output using softmax"
   ]
  },
  {
   "cell_type": "code",
   "execution_count": null,
   "metadata": {},
   "outputs": [],
   "source": [
    "#exponenize the logits to make everything positive\n",
    "counts = logits.exp()\n",
    "\n",
    "#calculate probabilities\n",
    "probs = counts/counts.sum(1, keepdims = True)"
   ]
  },
  {
   "cell_type": "code",
   "execution_count": null,
   "metadata": {},
   "outputs": [],
   "source": [
    "#2nd method\n",
    "probs_torch_softmax = torch.softmax(logits, 1)"
   ]
  },
  {
   "cell_type": "code",
   "execution_count": null,
   "metadata": {},
   "outputs": [],
   "source": [
    "#We want to index into prob and pluck out the highest predicted next character for all Xn samples\n",
    "#For all Xn samples, we gather the index listed in Y so for Xn1, we gather the first classification expected character\n",
    "loss = -probs[torch.arange(32), Y].log().mean()"
   ]
  },
  {
   "cell_type": "code",
   "execution_count": null,
   "metadata": {},
   "outputs": [],
   "source": [
    "loss_torch_softmax = -probs_torch_softmax[torch.arange(X.shape[0]), Y].log().mean()"
   ]
  },
  {
   "cell_type": "markdown",
   "metadata": {},
   "source": [
    "### reproducibility time!"
   ]
  },
  {
   "cell_type": "code",
   "execution_count": null,
   "metadata": {},
   "outputs": [],
   "source": [
    "Y.shape"
   ]
  },
  {
   "cell_type": "code",
   "execution_count": null,
   "metadata": {},
   "outputs": [],
   "source": [
    "#Building the dataset - very similar to the trigram construction but dynamic\n",
    "\n",
    "block_size = 3 #alternative for context length\n",
    "\n",
    "X, Y = [], []\n",
    "\n",
    "for w in words:\n",
    "\n",
    "    #print(w, '--- word of interest')\n",
    "    context = [0] * block_size #How many characters to consider from the left to the right\n",
    "    for ch in w + '.': #adding end word\n",
    "        \n",
    "        ix = stoi[ch]\n",
    "\n",
    "        X.append(context)\n",
    "        Y.append(ix)\n",
    "\n",
    "        #print(''.join(itos[i] for i in context), '--->', itos[ix])\n",
    "\n",
    "        context = context[1:] + [ix] #context is redefined as a new list and we move the window to the right\n",
    "\n",
    "\n",
    "X = torch.tensor(X)\n",
    "Y = torch.tensor(Y)"
   ]
  },
  {
   "cell_type": "code",
   "execution_count": null,
   "metadata": {},
   "outputs": [],
   "source": [
    "##LEts make it reproducible\n",
    "g = torch.Generator().manual_seed(2147483647)\n",
    "C = torch.randn((27,2), generator=g)\n",
    "W1 = torch.randn((6,100), generator = g)\n",
    "b1 = torch.randn(100, generator = g)\n",
    "W2 = torch.randn((100,27), generator = g)\n",
    "b2 = torch.randn(27, generator = g)\n",
    "\n",
    "parameters = [C, W1, b1, W2, b2]\n",
    "\n",
    "# embeddings = C[X]\n",
    "# tanh = torch.tanh(embedding.view(embedding.shape[0],6) @ W1 + b1)#can also use embedding.view(-1,6)\n",
    "# logits = tanh @ W2 + b2\n",
    "# counts = logits.exp()\n",
    "# probs = counts / counts.sum(1, keepdim=True)\n",
    "# loss_deprec = -probs[torch.arange(X.shape[0]), Y].log().mean()\n",
    "# print(f\"current loss: {loss_deprec}\")"
   ]
  },
  {
   "cell_type": "code",
   "execution_count": null,
   "metadata": {},
   "outputs": [],
   "source": [
    "\n",
    "for p in parameters:\n",
    "    print(p.shape, '--- shape')\n",
    "    \n",
    "    p.requires_grad = True"
   ]
  },
  {
   "cell_type": "code",
   "execution_count": null,
   "metadata": {},
   "outputs": [],
   "source": [
    "X.shape, Y.shape"
   ]
  },
  {
   "cell_type": "code",
   "execution_count": null,
   "metadata": {},
   "outputs": [],
   "source": [
    "## training loop \n",
    "learning_rate = -0.1\n",
    "\n",
    "for _ in range(100):\n",
    "\n",
    "    ix = torch.randint(0,X.shape[0], (32,))\n",
    "    \n",
    "    embeddings = C[X[ix]] #only get 32 samples\n",
    "    tanh = torch.tanh(embeddings.view(embeddings.shape[0],6) @ W1 + b1)#can also use embedding.view(-1,6)\n",
    "    logits = tanh @ W2 + b2\n",
    "    loss = F.cross_entropy(logits, Y[ix])\n",
    "\n",
    "    #print(f\"current loss: {loss.item()}\")\n",
    "\n",
    "    for p in parameters:\n",
    "        p.grad = None\n",
    "\n",
    "    loss.backward()\n",
    "\n",
    "    for p in parameters:\n",
    "        if p.grad is not None:\n",
    "            pass\n",
    "        else:\n",
    "            print(p.shape, '--- missing grad')\n",
    "\n",
    "    for p in parameters:\n",
    "        p.data += learning_rate * p.grad\n",
    "\n",
    "\n",
    "print(f\"current loss: {loss.item()}\")"
   ]
  },
  {
   "cell_type": "code",
   "execution_count": null,
   "metadata": {},
   "outputs": [],
   "source": [
    "##Now lets look at the overall  performance\n",
    "emb = C[X]\n",
    "h = torch.tanh(emb.view(-1, 6) @ W1 + b1)\n",
    "logits = h@W2 + b2\n",
    "cross_ent = F.cross_entropy(logits, Y)"
   ]
  },
  {
   "cell_type": "code",
   "execution_count": null,
   "metadata": {},
   "outputs": [],
   "source": [
    "print(cross_ent)"
   ]
  },
  {
   "cell_type": "code",
   "execution_count": 67,
   "metadata": {},
   "outputs": [],
   "source": [
    "##Create train, dev/val,test\n",
    "import random\n",
    "#read in all the words\n",
    "words = open('names.txt', 'r').read().splitlines()\n",
    "random.shuffle(words)\n",
    "\n",
    "chars = sorted(list(set(''.join(words))))\n",
    "stoi = {s:i for i, s in enumerate(chars)}\n",
    "stoi['.'] = 0\n",
    "itos = {i:s for s, i in stoi.items()}\n",
    "\n",
    "#Building the dataset - very similar to the trigram construction but dynamic\n",
    "def prepare_data(data, block_size):\n",
    "\n",
    "    block_size = block_size #alternative for context length\n",
    "\n",
    "    X, Y = [], []\n",
    "\n",
    "    for w in words:\n",
    "\n",
    "        #print(w, '--- word of interest')\n",
    "        context = [0] * block_size #How many characters to consider from the left to the right\n",
    "        for ch in w + '.': #adding end word\n",
    "            \n",
    "            ix = stoi[ch]\n",
    "\n",
    "            X.append(context)\n",
    "            Y.append(ix)\n",
    "\n",
    "            #print(''.join(itos[i] for i in context), '--->', itos[ix])\n",
    "\n",
    "            context = context[1:] + [ix] #context is redefined as a new list and we move the window to the right\n",
    "\n",
    "\n",
    "    X = torch.tensor(X)\n",
    "    Y = torch.tensor(Y)\n",
    "\n",
    "    return X, Y\n",
    "\n",
    "train_limit = int(0.8*len(words))\n",
    "dev_limit = int(0.9*len(words))\n",
    "\n",
    "Xtr, Ytr = prepare_data(words[:train_limit], block_size = 3)\n",
    "Xdev, Ydev = prepare_data(words[train_limit:dev_limit], block_size = 3)\n",
    "Xtest, Ytest = prepare_data(words[dev_limit:], block_size = 3)"
   ]
  },
  {
   "cell_type": "markdown",
   "metadata": {},
   "source": [
    "### Lets try increasing the size of the neural network"
   ]
  },
  {
   "cell_type": "code",
   "execution_count": 68,
   "metadata": {},
   "outputs": [],
   "source": [
    "assert Xtr.shape[0] == Ytr.shape[0], \"make sure split works\""
   ]
  },
  {
   "cell_type": "code",
   "execution_count": 78,
   "metadata": {},
   "outputs": [],
   "source": [
    "##LEts make it reproducible\n",
    "g = torch.Generator().manual_seed(2147483647)\n",
    "C = torch.randn((27,10), generator=g)\n",
    "W1 = torch.randn((30,300), generator = g)\n",
    "b1 = torch.randn(300, generator = g)\n",
    "W2 = torch.randn((300,27), generator = g)\n",
    "b2 = torch.randn(27, generator = g)\n",
    "\n",
    "parameters = [C, W1, b1, W2, b2]\n"
   ]
  },
  {
   "cell_type": "code",
   "execution_count": 79,
   "metadata": {},
   "outputs": [
    {
     "name": "stdout",
     "output_type": "stream",
     "text": [
      "Numer of paramters: 17697\n"
     ]
    }
   ],
   "source": [
    "print(f\"Numer of paramters: {sum(p.nelement() for p in parameters)}\")"
   ]
  },
  {
   "cell_type": "code",
   "execution_count": 80,
   "metadata": {},
   "outputs": [
    {
     "name": "stdout",
     "output_type": "stream",
     "text": [
      "torch.Size([27, 10]) --- shape\n",
      "torch.Size([30, 300]) --- shape\n",
      "torch.Size([300]) --- shape\n",
      "torch.Size([300, 27]) --- shape\n",
      "torch.Size([27]) --- shape\n"
     ]
    }
   ],
   "source": [
    "\n",
    "for p in parameters:\n",
    "    print(p.shape, '--- shape')\n",
    "    \n",
    "    p.requires_grad = True"
   ]
  },
  {
   "cell_type": "code",
   "execution_count": 81,
   "metadata": {},
   "outputs": [],
   "source": [
    "lre = torch.linspace(-3, 0, 1000)\n",
    "lrs = 10**lre"
   ]
  },
  {
   "cell_type": "code",
   "execution_count": null,
   "metadata": {},
   "outputs": [
    {
     "name": "stdout",
     "output_type": "stream",
     "text": [
      "current loss: 2.045712471008301\n"
     ]
    }
   ],
   "source": [
    "## training loop \n",
    "lri = []\n",
    "lossi = []\n",
    "stepi = []\n",
    "\n",
    "for _ in range(50000):\n",
    "\n",
    "    ix = torch.randint(0,Xtr.shape[0], (32,))\n",
    "    \n",
    "    embeddings = C[Xtr[ix]] #only get 32 samples\n",
    "    tanh = torch.tanh(embeddings.view(embeddings.shape[0],30) @ W1 + b1)#can also use embedding.view(-1,6)\n",
    "    logits = tanh @ W2 + b2\n",
    "    loss = F.cross_entropy(logits, Ytr[ix])\n",
    "\n",
    "    #print(f\"current loss: {loss.item()}\")\n",
    "\n",
    "    for p in parameters:\n",
    "        p.grad = None\n",
    "\n",
    "    loss.backward()\n",
    "\n",
    "    # for p in parameters:\n",
    "    #     if p.grad is not None:\n",
    "    #         pass\n",
    "    #     else:\n",
    "    #         print(p.shape, '--- missing grad')\n",
    "    #lr = lrs[_]\n",
    "    lr = 0.1\n",
    "    for p in parameters:\n",
    "        p.data += -lr * p.grad\n",
    "        \n",
    "    #lri.append(lre[_])\n",
    "    lossi.append(loss.log10().item())\n",
    "    stepi.append(_)\n",
    "\n",
    "\n",
    "print(f\"current loss: {loss.item()}\")"
   ]
  },
  {
   "cell_type": "code",
   "execution_count": 83,
   "metadata": {},
   "outputs": [
    {
     "data": {
      "text/plain": [
       "[<matplotlib.lines.Line2D at 0x7f9b8aadd0c0>]"
      ]
     },
     "execution_count": 83,
     "metadata": {},
     "output_type": "execute_result"
    },
    {
     "data": {
      "image/png": "[encoded data removed]",
      "text/plain": [
       "<Figure size 640x480 with 1 Axes>"
      ]
     },
     "metadata": {},
     "output_type": "display_data"
    }
   ],
   "source": [
    "#plt.plot(lri, lossi) -> identifying valley for lowest losses per learning rate\n",
    "plt.plot(stepi, lossi) #Tells where loss may be hitting a local minima"
   ]
  },
  {
   "cell_type": "code",
   "execution_count": 84,
   "metadata": {},
   "outputs": [
    {
     "name": "stdout",
     "output_type": "stream",
     "text": [
      "XDev: 2.3328592777252197)\n"
     ]
    }
   ],
   "source": [
    "##Now lets look at the overall  performance\n",
    "emb = C[Xtr]\n",
    "h = torch.tanh(emb.view(-1,30) @ W1 + b1)\n",
    "logits = h@W2 + b2\n",
    "cross_ent = F.cross_entropy(logits, Ytr)\n",
    "print(f\"XDev: {cross_ent})\")"
   ]
  },
  {
   "cell_type": "code",
   "execution_count": null,
   "metadata": {},
   "outputs": [
    {
     "name": "stdout",
     "output_type": "stream",
     "text": [
      "\n"
     ]
    }
   ],
   "source": [
    "##Now lets look at the overall  performance\n",
    "emb = C[Xdev]\n",
    "h = torch.tanh(emb.view(-1,30) @ W1 + b1)\n",
    "logits = h@W2 + b2\n",
    "cross_ent = F.cross_entropy(logits, Ydev)"
   ]
  },
  {
   "cell_type": "code",
   "execution_count": 86,
   "metadata": {},
   "outputs": [
    {
     "name": "stdout",
     "output_type": "stream",
     "text": [
      "tensor(2.3329, grad_fn=<NllLossBackward0>)\n"
     ]
    }
   ],
   "source": [
    "print(cross_ent)\n"
   ]
  },
  {
   "cell_type": "code",
   "execution_count": 87,
   "metadata": {},
   "outputs": [
    {
     "name": "stdout",
     "output_type": "stream",
     "text": [
      "Test score: 2.3328592777252197\n"
     ]
    }
   ],
   "source": [
    "##Now lets look at the overall  performance\n",
    "emb = C[Xtest]\n",
    "h = torch.tanh(emb.view(-1,30) @ W1 + b1)\n",
    "logits = h@W2 + b2\n",
    "print(f\"Test score: {F.cross_entropy(logits, Ytest)}\")"
   ]
  },
  {
   "cell_type": "code",
   "execution_count": 88,
   "metadata": {},
   "outputs": [
    {
     "ename": "KeyError",
     "evalue": "26",
     "output_type": "error",
     "traceback": [
      "\u001b[0;31m---------------------------------------------------------------------------\u001b[0m",
      "\u001b[0;31mKeyError\u001b[0m                                  Traceback (most recent call last)",
      "Cell \u001b[0;32mIn[88], line 6\u001b[0m\n\u001b[1;32m      4\u001b[0m plt\u001b[38;5;241m.\u001b[39mscatter(C[:, \u001b[38;5;241m0\u001b[39m]\u001b[38;5;241m.\u001b[39mdata, C[:,\u001b[38;5;241m1\u001b[39m]\u001b[38;5;241m.\u001b[39mdata, s \u001b[38;5;241m=\u001b[39m \u001b[38;5;241m200\u001b[39m)\n\u001b[1;32m      5\u001b[0m \u001b[38;5;28;01mfor\u001b[39;00m i \u001b[38;5;129;01min\u001b[39;00m \u001b[38;5;28mrange\u001b[39m(C\u001b[38;5;241m.\u001b[39mshape[\u001b[38;5;241m0\u001b[39m]):\n\u001b[0;32m----> 6\u001b[0m     plt\u001b[38;5;241m.\u001b[39mtext(C[i,\u001b[38;5;241m0\u001b[39m]\u001b[38;5;241m.\u001b[39mitem(), C[i, \u001b[38;5;241m1\u001b[39m]\u001b[38;5;241m.\u001b[39mitem(), \u001b[43mitos\u001b[49m\u001b[43m[\u001b[49m\u001b[43mi\u001b[49m\u001b[43m]\u001b[49m, ha \u001b[38;5;241m=\u001b[39m \u001b[38;5;124m\"\u001b[39m\u001b[38;5;124mcenter\u001b[39m\u001b[38;5;124m\"\u001b[39m, va \u001b[38;5;241m=\u001b[39m \u001b[38;5;124m\"\u001b[39m\u001b[38;5;124mcenter\u001b[39m\u001b[38;5;124m\"\u001b[39m, color \u001b[38;5;241m=\u001b[39m \u001b[38;5;124m\"\u001b[39m\u001b[38;5;124mwhite\u001b[39m\u001b[38;5;124m\"\u001b[39m)\n\u001b[1;32m      7\u001b[0m plt\u001b[38;5;241m.\u001b[39mgrid(\u001b[38;5;124m\"\u001b[39m\u001b[38;5;124mminor\u001b[39m\u001b[38;5;124m\"\u001b[39m)\n",
      "\u001b[0;31mKeyError\u001b[0m: 26"
     ]
    },
    {
     "data": {
      "image/png": "[encoded data removed]",
      "text/plain": [
       "<Figure size 800x800 with 1 Axes>"
      ]
     },
     "metadata": {},
     "output_type": "display_data"
    }
   ],
   "source": [
    "#lets look at the embeddings\n",
    "\n",
    "plt.figure(figsize = (8,8))\n",
    "plt.scatter(C[:, 0].data, C[:,1].data, s = 200)\n",
    "for i in range(C.shape[0]):\n",
    "    plt.text(C[i,0].item(), C[i, 1].item(), itos[i], ha = \"center\", va = \"center\", color = \"white\")\n",
    "plt.grid(\"minor\")"
   ]
  },
  {
   "cell_type": "markdown",
   "metadata": {},
   "source": [
    "#Things to try:\n",
    "    - change neurons\n",
    "    -change embeddings dimension\n",
    "    -change number of characters\n",
    "    -change learning ratte"
   ]
  },
  {
   "cell_type": "markdown",
   "metadata": {},
   "source": [
    "### Sampling from the model\n"
   ]
  },
  {
   "cell_type": "code",
   "execution_count": 89,
   "metadata": {},
   "outputs": [
    {
     "name": "stdout",
     "output_type": "stream",
     "text": [
      "cur.\n",
      "br.\n",
      "zokinf.\n",
      "m.\n",
      "oe.\n",
      "si.\n",
      "m.\n",
      ".\n",
      "finst.\n",
      "cleson.\n",
      ".\n",
      ".\n",
      "rik.\n",
      "el.\n",
      "mivi.\n",
      "nd.\n",
      "kel.\n",
      ".\n",
      "li.\n",
      "y.\n",
      "royy.\n",
      "s.\n",
      "leu.\n",
      "l.\n",
      "inlye.\n",
      "o.\n",
      "tiecosheij.\n",
      "k.\n",
      "k.\n",
      ".\n",
      "k.\n",
      "k.\n",
      ".\n",
      "kemley.\n",
      "coven.\n",
      "v.\n",
      "gr.\n",
      "de.\n",
      "s.\n",
      "z.\n"
     ]
    }
   ],
   "source": [
    "g = torch.Generator().manual_seed(2147483647 + 10)\n",
    "block_size = 3\n",
    "for _ in range(40):\n",
    "    \n",
    "    out = []\n",
    "    context = [0] * block_size\n",
    "    while True:\n",
    "        embedding = C[torch.tensor([context])]\n",
    "\n",
    "        h = torch.tanh(embedding.view(1, -1) @ W1 + b1) #We use (1,-1) to have pytorch infer the correct tensor size\n",
    "\n",
    "        logits = h @W2 + b2\n",
    "\n",
    "        probs = F.softmax(logits, dim =1)\n",
    "\n",
    "        ix = torch.multinomial(probs, num_samples = 1, generator = g).item() #gather a probability using multinomial distribution\n",
    "\n",
    "        context = context[1:] + [ix]\n",
    "\n",
    "        out.append(ix)\n",
    "\n",
    "        if ix == 0:\n",
    "            break\n",
    "\n",
    "\n",
    "    print(\"\".join(itos[i] for i in out))"
   ]
  },
  {
   "cell_type": "code",
   "execution_count": null,
   "metadata": {},
   "outputs": [],
   "source": []
  }
 ],
 "metadata": {
  "kernelspec": {
   "display_name": "a-alpha-conda",
   "language": "python",
   "name": "python3"
  },
  "language_info": {
   "codemirror_mode": {
    "name": "ipython",
    "version": 3
   },
   "file_extension": ".py",
   "mimetype": "text/x-python",
   "name": "python",
   "nbconvert_exporter": "python",
   "pygments_lexer": "ipython3",
   "version": "3.10.14"
  }
 },
 "nbformat": 4,
 "nbformat_minor": 2
}
