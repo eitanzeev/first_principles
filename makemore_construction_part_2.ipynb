{
 "cells": [
  {
   "cell_type": "markdown",
   "metadata": {},
   "source": [
    "### Makemore Part 2"
   ]
  },
  {
   "cell_type": "code",
   "execution_count": 1,
   "metadata": {},
   "outputs": [],
   "source": [
    "import torch\n",
    "import torch.nn.functional as F\n",
    "import matplotlib.pyplot as plt\n",
    "%matplotlib inline\n"
   ]
  },
  {
   "cell_type": "code",
   "execution_count": 2,
   "metadata": {},
   "outputs": [],
   "source": [
    "#read in all the words\n",
    "words = open('names.txt', 'r').read().splitlines()"
   ]
  },
  {
   "cell_type": "code",
   "execution_count": 3,
   "metadata": {},
   "outputs": [],
   "source": [
    "chars = sorted(list(set(''.join(words))))\n",
    "stoi = {s:i for i, s in enumerate(chars)}\n",
    "stoi['.'] = 0\n",
    "itos = {i:s for s, i in stoi.items()}"
   ]
  },
  {
   "cell_type": "markdown",
   "metadata": {},
   "source": []
  },
  {
   "cell_type": "code",
   "execution_count": 4,
   "metadata": {},
   "outputs": [
    {
     "name": "stdout",
     "output_type": "stream",
     "text": [
      "emma --- word of interest\n",
      "... ---> e\n",
      "..e ---> m\n",
      ".em ---> m\n",
      "emm ---> .\n",
      "mm. ---> .\n",
      "olivia --- word of interest\n",
      "... ---> o\n",
      "..o ---> l\n",
      ".ol ---> i\n",
      "oli ---> v\n",
      "liv ---> i\n",
      "ivi ---> .\n",
      "vi. ---> .\n",
      "ava --- word of interest\n",
      "... ---> .\n",
      "... ---> v\n",
      "..v ---> .\n",
      ".v. ---> .\n",
      "isabella --- word of interest\n",
      "... ---> i\n",
      "..i ---> s\n",
      ".is ---> .\n",
      "is. ---> b\n",
      "s.b ---> e\n",
      ".be ---> l\n",
      "bel ---> l\n",
      "ell ---> .\n",
      "ll. ---> .\n",
      "sophia --- word of interest\n",
      "... ---> s\n",
      "..s ---> o\n",
      ".so ---> p\n",
      "sop ---> h\n",
      "oph ---> i\n",
      "phi ---> .\n",
      "hi. ---> .\n"
     ]
    }
   ],
   "source": [
    "#Building the dataset - very similar to the trigram construction but dynamic\n",
    "\n",
    "block_size = 3 #alternative for context length\n",
    "\n",
    "X, Y = [], []\n",
    "\n",
    "for w in words[:5]:\n",
    "\n",
    "    print(w, '--- word of interest')\n",
    "    context = [0] * block_size #How many characters to consider from the left to the right\n",
    "    for ch in w + '.': #adding end word\n",
    "        \n",
    "        ix = stoi[ch]\n",
    "\n",
    "        X.append(context)\n",
    "        Y.append(ix)\n",
    "\n",
    "        print(''.join(itos[i] for i in context), '--->', itos[ix])\n",
    "\n",
    "        context = context[1:] + [ix] #context is redefined as a new list and we move the window to the right\n",
    "\n",
    "\n",
    "X = torch.tensor(X)\n",
    "Y = torch.tensor(Y)"
   ]
  },
  {
   "cell_type": "code",
   "execution_count": 5,
   "metadata": {},
   "outputs": [
    {
     "name": "stdout",
     "output_type": "stream",
     "text": [
      "Embedding of the char 5: tensor([-0.4521, -2.0867])\n",
      "Embedding of the chars 5,6, and 7: tensor([[-0.4521, -2.0867],\n",
      "        [-0.2620,  0.5576],\n",
      "        [-1.4036,  1.1917]])\n"
     ]
    }
   ],
   "source": [
    "##look up table. \n",
    "##The column metric is showing how many \"features\" are contained within each vector\n",
    "C = torch.randn((27,2))\n",
    "\n",
    "#Can execute look ups with single integers (for one character retrieval at a time)\n",
    "embedding_of_char_5 = C[5]\n",
    "print(f\"Embedding of the char 5: {embedding_of_char_5}\")\n",
    "##Or\n",
    "#Can execute look ups with lists of integers and/or tensors to retrieve multiple embeddings to begin with\n",
    "embedding_of_chars_5_6_7 = C[torch.tensor([5,6,7])]\n",
    "\n",
    "print(f\"Embedding of the chars 5,6, and 7: {embedding_of_chars_5_6_7}\")"
   ]
  },
  {
   "cell_type": "code",
   "execution_count": 6,
   "metadata": {},
   "outputs": [
    {
     "data": {
      "text/plain": [
       "' Using the method above we can get C[X] which represents\\n    the 2 dimensional embeddings for each character stored in the Xn (32 for first 5 words) samples\\n    of char sequences\\n'"
      ]
     },
     "execution_count": 6,
     "metadata": {},
     "output_type": "execute_result"
    }
   ],
   "source": [
    "\"\"\" Using the method above we can get C[X] which represents\n",
    "    the 2 dimensional embeddings for each character stored in the Xn (32 for first 5 words) samples\n",
    "    of char sequences\n",
    "\"\"\""
   ]
  },
  {
   "cell_type": "code",
   "execution_count": 7,
   "metadata": {},
   "outputs": [
    {
     "name": "stdout",
     "output_type": "stream",
     "text": [
      "embedding shape torch.Size([32, 3, 2])\n"
     ]
    }
   ],
   "source": [
    "embedding = C[X]\n",
    "print(f\"embedding shape {embedding.shape}\")"
   ]
  },
  {
   "cell_type": "code",
   "execution_count": 8,
   "metadata": {},
   "outputs": [
    {
     "name": "stdout",
     "output_type": "stream",
     "text": [
      "10th sample is chars: tensor([ 8, 21,  8])\n"
     ]
    }
   ],
   "source": [
    "print(f\"10th sample is chars: {X[10]}\")"
   ]
  },
  {
   "cell_type": "code",
   "execution_count": 9,
   "metadata": {},
   "outputs": [
    {
     "name": "stdout",
     "output_type": "stream",
     "text": [
      "Embedding for the 10th sample should be dims(3 x2): tensor([[ 1.1741,  0.8073],\n",
      "        [-2.2416, -0.3208],\n",
      "        [ 1.1741,  0.8073]])\n",
      "This is showing the 2d embding representation of the characters in tensor above\n"
     ]
    }
   ],
   "source": [
    "print(f\"Embedding for the 10th sample should be dims(3 x2): {embedding[10]}\")\n",
    "print(\"This is showing the 2d embding representation of the characters in tensor above\")"
   ]
  },
  {
   "cell_type": "code",
   "execution_count": 10,
   "metadata": {},
   "outputs": [],
   "source": [
    "W1 = torch.randn((6, 100)) #100 neurons [weights to be tuned]\n",
    "b1 = torch.randn(100)"
   ]
  },
  {
   "cell_type": "code",
   "execution_count": 11,
   "metadata": {},
   "outputs": [],
   "source": [
    "#embedding[0] -> first example /trigram subset \"...\", \"..e\", \".em\"\n",
    "#embedding[0, 0,:] -> first 2 dimensional vector representation of the character of \n",
    "#embedding[0,0,0] -> first vector value of 2D vector rep of the first character in the first example subset"
   ]
  },
  {
   "cell_type": "code",
   "execution_count": 12,
   "metadata": {},
   "outputs": [
    {
     "data": {
      "text/plain": [
       "torch.Size([32, 2])"
      ]
     },
     "execution_count": 12,
     "metadata": {},
     "output_type": "execute_result"
    }
   ],
   "source": [
    "embedding[:,0,:].shape #the first char of all Xn samples and it's full vector representation"
   ]
  },
  {
   "cell_type": "code",
   "execution_count": 13,
   "metadata": {},
   "outputs": [
    {
     "data": {
      "text/plain": [
       "'\\n#unbind removes a tensor dimension and returns a tuple of all slices along the dimension. \\n# So here we are removing the 1th dimensionand returning all the tuples that were within that. \\n# So here that would be collecting all character embedding groups per char into separate tensors for easier concatenation\\n'"
      ]
     },
     "execution_count": 13,
     "metadata": {},
     "output_type": "execute_result"
    }
   ],
   "source": [
    "#Now we concatenate embeddings of the different subsets to be one tensor for multiplication against the weights\n",
    "#torch.cat([embedding[:,0,:], embedding[:,1,:], embedding[:,2,:]],1).shape\n",
    "\n",
    "#Can also use\n",
    "#torch.cat(torch.unbind(embedding,1),1).shape \n",
    "\"\"\"\n",
    "#unbind removes a tensor dimension and returns a tuple of all slices along the dimension. \n",
    "# So here we are removing the 1th dimensionand returning all the tuples that were within that. \n",
    "# So here that would be collecting all character embedding groups per char into separate tensors for easier concatenation\n",
    "\"\"\"\n",
    "#Can also use view() which forces pytorch to change the view of the embedding to match input dimensions\n",
    "#embedding.view(32,6)\n",
    "\n",
    "#embedding.view(32,6) == torch.cat(torch.unbind(embedding,1),1), \"Double check your array manipulation\" #proving that the embeddng view and cat + unbind methods\n",
    "\n"
   ]
  },
  {
   "cell_type": "markdown",
   "metadata": {},
   "source": [
    "#### Hidden Layer creation"
   ]
  },
  {
   "cell_type": "code",
   "execution_count": 14,
   "metadata": {},
   "outputs": [],
   "source": [
    "#Creating the hidden layer\n",
    "h = embedding.view(embedding.shape[0],6) @ W1 + b1 \n",
    "\n",
    "tanh = torch.tanh(h) #activation function"
   ]
  },
  {
   "cell_type": "code",
   "execution_count": 17,
   "metadata": {},
   "outputs": [
    {
     "data": {
      "text/plain": [
       "torch.Size([32, 100])"
      ]
     },
     "execution_count": 17,
     "metadata": {},
     "output_type": "execute_result"
    }
   ],
   "source": [
    "tanh.shape"
   ]
  },
  {
   "cell_type": "markdown",
   "metadata": {},
   "source": [
    "#### Now create the output layer"
   ]
  },
  {
   "cell_type": "code",
   "execution_count": 18,
   "metadata": {},
   "outputs": [],
   "source": [
    "W2 = torch.randn([100,27]) #27 possible characters coming out\n",
    "b2 = torch.randn(27)"
   ]
  },
  {
   "cell_type": "code",
   "execution_count": 19,
   "metadata": {},
   "outputs": [
    {
     "name": "stdout",
     "output_type": "stream",
     "text": [
      "torch.Size([32, 27])\n"
     ]
    }
   ],
   "source": [
    "#Creating logits in final layer\n",
    "logits = tanh @ W2 + b2\n",
    "print(logits.shape)\n",
    "\n"
   ]
  },
  {
   "cell_type": "markdown",
   "metadata": {},
   "source": [
    "#### Now create the probabilistic output using softmax"
   ]
  },
  {
   "cell_type": "code",
   "execution_count": 20,
   "metadata": {},
   "outputs": [],
   "source": [
    "#exponenize the logits to make everything positive\n",
    "counts = logits.exp()\n",
    "\n",
    "#calculate probabilities\n",
    "probs = counts/counts.sum(1, keepdims = True)"
   ]
  },
  {
   "cell_type": "code",
   "execution_count": 21,
   "metadata": {},
   "outputs": [],
   "source": [
    "#2nd method\n",
    "probs_torch_softmax = torch.softmax(logits, 1)"
   ]
  },
  {
   "cell_type": "code",
   "execution_count": 22,
   "metadata": {},
   "outputs": [],
   "source": [
    "#We want to index into prob and pluck out the highest predicted next character for all Xn samples\n",
    "#For all Xn samples, we gather the index listed in Y so for Xn1, we gather the first classification expected character\n",
    "loss = -probs[torch.arange(32), Y].log().mean()"
   ]
  },
  {
   "cell_type": "code",
   "execution_count": 25,
   "metadata": {},
   "outputs": [],
   "source": [
    "loss_torch_softmax = -probs_torch_softmax[torch.arange(X.shape[0]), Y].log().mean()"
   ]
  },
  {
   "cell_type": "markdown",
   "metadata": {},
   "source": [
    "### reproducicle time!"
   ]
  },
  {
   "cell_type": "code",
   "execution_count": null,
   "metadata": {},
   "outputs": [
    {
     "name": "stdout",
     "output_type": "stream",
     "text": [
      "current loss: 20.056188583374023\n"
     ]
    }
   ],
   "source": [
    "##LEts make it reproducible\n",
    "g = torch.Generator().manual_seed(2147483647)\n",
    "C = torch.randn((27,2), generator=g)\n",
    "W1 = torch.randn((6,100), generator = g)\n",
    "b1 = torch.randn(100, generator = g)\n",
    "W2 = torch.randn((100,27), generator = g)\n",
    "b2 = torch.randn(27, generator = g)\n",
    "\n",
    "parameters = [C, W1, b1, W2, b2]\n",
    "\n",
    "embeddings = C[X]\n",
    "tanh = torch.tanh(embedding.view(embedding.shape[0],6) @ W1 + b1)#can also use embedding.view(-1,6)\n",
    "logits = tanh @ W2 + b2\n",
    "counts = logits.exp()\n",
    "probs = counts / counts.sum(1, keepdim=True)\n",
    "loss_deprec = -probs[torch.arange(X.shape[0]), Y].log().mean()\n",
    "print(f\"current loss: {loss_deprec}\")"
   ]
  },
  {
   "cell_type": "code",
   "execution_count": 34,
   "metadata": {},
   "outputs": [
    {
     "name": "stdout",
     "output_type": "stream",
     "text": [
      "Cross entropy loss 20.056188583374023\n"
     ]
    }
   ],
   "source": [
    "print(f\"Cross entropy loss {F.cross_entropy(logits, Y)}\")"
   ]
  },
  {
   "cell_type": "code",
   "execution_count": null,
   "metadata": {},
   "outputs": [],
   "source": [
    "## training loop \n",
    "learning_rate = -0.1\n",
    "\n",
    "\n",
    "for _ in range(0,10)\n",
    "    embeddings = C[X]\n",
    "    tanh = torch.tanh(embedding.view(embedding.shape[0],6) @ W1 + b1)#can also use embedding.view(-1,6)\n",
    "    logits = tanh @ W2 + b2\n",
    "    counts = logits.exp()\n",
    "    probs = counts / counts.sum(1, keepdim=True)\n",
    "    loss_deprec = -probs[torch.arange(X.shape[0]), Y].log().mean()\n",
    "    print(f\"current loss: {loss_deprec}\")\n",
    "\n",
    "    for p in parameters:\n",
    "        p.grad = None\n",
    "\n",
    "    loss.backward()\n",
    "\n",
    "    for p in parameters:\n",
    "        p.data += learning_rate * p.grad"
   ]
  }
 ],
 "metadata": {
  "kernelspec": {
   "display_name": "a-alpha-conda",
   "language": "python",
   "name": "python3"
  },
  "language_info": {
   "codemirror_mode": {
    "name": "ipython",
    "version": 3
   },
   "file_extension": ".py",
   "mimetype": "text/x-python",
   "name": "python",
   "nbconvert_exporter": "python",
   "pygments_lexer": "ipython3",
   "version": "3.10.14"
  }
 },
 "nbformat": 4,
 "nbformat_minor": 2
}
