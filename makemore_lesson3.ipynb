{
 "cells": [
  {
   "cell_type": "markdown",
   "metadata": {},
   "source": [
    "### Makemore lesson 3"
   ]
  },
  {
   "cell_type": "code",
   "execution_count": 24,
   "metadata": {},
   "outputs": [],
   "source": [
    "##Create train, dev/val,test\n",
    "import torch\n",
    "import torch.nn.functional as F\n",
    "import matplotlib.pyplot as plt\n",
    "import random\n",
    "%matplotlib inline"
   ]
  },
  {
   "cell_type": "code",
   "execution_count": 25,
   "metadata": {},
   "outputs": [],
   "source": [
    "\n",
    "words = open('names.txt', 'r').read().splitlines()\n",
    "random.seed(42)\n",
    "random.shuffle(words)\n",
    "\n",
    "chars = sorted(list(set(''.join(words))))\n",
    "stoi = {s:i+1 for i, s in enumerate(chars)}\n",
    "stoi['.'] = 0\n",
    "itos = {i:s for s, i in stoi.items()}\n",
    "\n",
    "#Building the dataset - very similar to the trigram construction but dynamic\n",
    "def prepare_data(data, block_size):\n",
    "\n",
    "    block_size = block_size #alternative for context length\n",
    "\n",
    "    X, Y = [], []\n",
    "\n",
    "    for w in data:\n",
    "\n",
    "        #print(w, '--- word of interest')\n",
    "        context = [0] * block_size #How many characters to consider from the left to the right\n",
    "        for ch in w + '.': #adding end word\n",
    "            \n",
    "            ix = stoi[ch]\n",
    "\n",
    "            X.append(context)\n",
    "            Y.append(ix)\n",
    "\n",
    "            #print(''.join(itos[i] for i in context), '--->', itos[ix])\n",
    "\n",
    "            context = context[1:] + [ix] #context is redefined as a new list and we move the window to the right\n",
    "\n",
    "\n",
    "    X = torch.tensor(X)\n",
    "    Y = torch.tensor(Y)\n",
    "\n",
    "    return X, Y\n",
    "\n",
    "train_limit = int(0.8*len(words))\n",
    "dev_limit = int(0.9*len(words))\n",
    "block_size = 3\n",
    "\n",
    "Xtr, Ytr = prepare_data(words[:train_limit], block_size = block_size)\n",
    "Xdev, Ydev = prepare_data(words[train_limit:dev_limit], block_size = block_size)\n",
    "Xtest, Ytest = prepare_data(words[dev_limit:], block_size = block_size)"
   ]
  },
  {
   "cell_type": "code",
   "execution_count": 26,
   "metadata": {},
   "outputs": [
    {
     "data": {
      "text/plain": [
       "(torch.Size([182625, 3]), torch.Size([22655, 3]))"
      ]
     },
     "execution_count": 26,
     "metadata": {},
     "output_type": "execute_result"
    }
   ],
   "source": [
    "Xtr.shape, Xdev.shape"
   ]
  },
  {
   "cell_type": "code",
   "execution_count": 32,
   "metadata": {},
   "outputs": [
    {
     "name": "stdout",
     "output_type": "stream",
     "text": [
      "Number of parameters: 11897\n"
     ]
    }
   ],
   "source": [
    "vocab_size = len(stoi)\n",
    "embedding_dim = 10\n",
    "n_hidden = 200\n",
    "\n",
    "g = torch.Generator().manual_seed(2147483647)\n",
    "C = torch.randn((vocab_size, embedding_dim), generator = g)\n",
    "W1 = torch.randn((embedding_dim * block_size, n_hidden), generator = g)\n",
    "b1 = torch.randn(n_hidden, generator = g)\n",
    "W2 = torch.randn((n_hidden, vocab_size), generator = g) * 0.01 #making sure don't hve exploding initialization loss\n",
    "b2 = torch.randn(vocab_size, generator = g) * 0 #making sure we don't have exploding initialization\n",
    "\n",
    "parameters = [C,W1, b1, W2, b2]\n",
    "\n",
    "param_sum = 0\n",
    "for p in parameters:\n",
    "    p.requires_grad = True\n",
    "    param_sum += p.nelement()\n",
    "\n",
    "print(f\"Number of parameters: {param_sum}\")\n",
    "\n"
   ]
  },
  {
   "cell_type": "code",
   "execution_count": 33,
   "metadata": {},
   "outputs": [
    {
     "name": "stdout",
     "output_type": "stream",
     "text": [
      "      0/ 200000: 3.3221\n",
      "  10000/ 200000: 2.1900\n",
      "  20000/ 200000: 2.4196\n",
      "  30000/ 200000: 2.6067\n",
      "  40000/ 200000: 2.0601\n",
      "  50000/ 200000: 2.4988\n",
      "  60000/ 200000: 2.3902\n",
      "  70000/ 200000: 2.1344\n",
      "  80000/ 200000: 2.3369\n",
      "  90000/ 200000: 2.1299\n",
      " 100000/ 200000: 1.8329\n",
      " 110000/ 200000: 2.2053\n",
      " 120000/ 200000: 1.8540\n",
      " 130000/ 200000: 2.4566\n",
      " 140000/ 200000: 2.1879\n",
      " 150000/ 200000: 2.1118\n",
      " 160000/ 200000: 1.8956\n",
      " 170000/ 200000: 1.8644\n",
      " 180000/ 200000: 2.0326\n",
      " 190000/ 200000: 1.8417\n",
      "Training Loss: 2.370270013809204\n"
     ]
    }
   ],
   "source": [
    "max_iterations = 200000\n",
    "batch_size = 32\n",
    "lossi = []\n",
    "for it in range(max_iterations):\n",
    "\n",
    "    batch = torch.randint(0, Xtr.shape[0], (batch_size,), generator = g)\n",
    "\n",
    "    embedding = C[Xtr[batch]]\n",
    "    embdcat = embedding.view(embedding.shape[0],-1)\n",
    "    tanh = torch.tanh(embdcat @ W1 + b1)\n",
    "\n",
    "    logits = tanh@W2 + b2 \n",
    "\n",
    "    loss = F.cross_entropy(logits, Ytr[batch])\n",
    "\n",
    "\n",
    "    #We need to reset the gradients before we run backward so that we don't compile grads\n",
    "    for p in parameters:\n",
    "        p.grad = None\n",
    "\n",
    "    lossi.append(loss.log10().item())\n",
    "    #steps.append(it)\n",
    "\n",
    "    loss.backward()\n",
    "    lr = 0.1 if it < 100000 else 0.01\n",
    "\n",
    "    #Now update the parameters\n",
    "    for p in parameters:\n",
    "        p.data += -lr * p.grad\n",
    "\n",
    "    if it % 10000 == 0:\n",
    "        print(f'{it:7d}/{max_iterations:7d}: {loss.item():.4f}')\n",
    "\n",
    "\n",
    "print(f\"Training Loss: {loss.item()}\")\n",
    "\n",
    "    \n",
    "\n",
    "\n"
   ]
  },
  {
   "cell_type": "code",
   "execution_count": 29,
   "metadata": {},
   "outputs": [
    {
     "name": "stdout",
     "output_type": "stream",
     "text": [
      "torch.Size([182625, 3]) torch.Size([182625])\n",
      "train 2.127152919769287\n",
      "torch.Size([22655, 3]) torch.Size([22655])\n",
      "dev 2.173154830932617\n",
      "torch.Size([22866, 3]) torch.Size([22866])\n",
      "test 2.1648871898651123\n"
     ]
    }
   ],
   "source": [
    "@torch.no_grad() #-> this decorator disables the gradient tracking\n",
    "def split_loss(split):\n",
    "    x,y = {'train': (Xtr, Ytr),\n",
    "            'dev': (Xdev, Ydev),\n",
    "            'test': (Xtest, Ytest)}[split]\n",
    "\n",
    "    print(x.shape, y.shape)\n",
    "    emb = C[x]\n",
    "\n",
    "    embcat = emb.view(emb.shape[0], -1)\n",
    "    h = torch.tanh(embcat@W1 + b1)\n",
    "    logits = h @W2 + b2\n",
    "    loss = F.cross_entropy(logits, y)\n",
    "    print(split, loss.item())\n",
    "\n",
    "\n",
    "split_loss('train')\n",
    "split_loss(\"dev\")\n",
    "split_loss(\"test\")\n",
    "    "
   ]
  },
  {
   "cell_type": "code",
   "execution_count": 31,
   "metadata": {},
   "outputs": [
    {
     "name": "stdout",
     "output_type": "stream",
     "text": [
      "mona.\n",
      "mayah.\n",
      "seen.\n",
      "nah.\n",
      "yam.\n",
      "rensleigh.\n",
      "rari.\n",
      "adeendielin.\n",
      "shy.\n",
      "jenne.\n",
      "elissopharleiyah.\n",
      "hotelin.\n",
      "shubergahgriel.\n",
      "kendreth.\n",
      "konnton.\n",
      "foud.\n",
      "mace.\n",
      "ryyah.\n",
      "fael.\n",
      "yuma.\n"
     ]
    }
   ],
   "source": [
    "g = torch.Generator().manual_seed(2147483647 + 10)\n",
    "\n",
    "for _ in range(20):\n",
    "    out = []\n",
    "\n",
    "    context = [0] * block_size \n",
    "\n",
    "    while True:\n",
    "        emb = C[torch.tensor([context])] #-> turns the generated context into an embedding from our adjusted look up table post grad owkr\n",
    "        embdcat = emb.view(1, -1)\n",
    "        h = torch.tanh(embdcat@W1 + b1)\n",
    "\n",
    "        logits = h@W2 + b2\n",
    "\n",
    "        probs = F.softmax(logits, dim =1)\n",
    "\n",
    "        #sample from the distribution\n",
    "        ix = torch.multinomial(probs, num_samples = 1, generator = g).item()\n",
    "\n",
    "        context = context[1:] + [ix]\n",
    "\n",
    "        out.append(ix)\n",
    "\n",
    "        if ix == 0:\n",
    "            break\n",
    "\n",
    "\n",
    "    print(\"\".join(itos[i] for i in out))\n"
   ]
  },
  {
   "cell_type": "markdown",
   "metadata": {},
   "source": []
  }
 ],
 "metadata": {
  "kernelspec": {
   "display_name": "a-alpha-conda",
   "language": "python",
   "name": "python3"
  },
  "language_info": {
   "codemirror_mode": {
    "name": "ipython",
    "version": 3
   },
   "file_extension": ".py",
   "mimetype": "text/x-python",
   "name": "python",
   "nbconvert_exporter": "python",
   "pygments_lexer": "ipython3",
   "version": "3.10.14"
  }
 },
 "nbformat": 4,
 "nbformat_minor": 2
}
