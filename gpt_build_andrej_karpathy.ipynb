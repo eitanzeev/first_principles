{
 "cells": [
  {
   "cell_type": "code",
   "execution_count": 5,
   "metadata": {},
   "outputs": [
    {
     "name": "stdout",
     "output_type": "stream",
     "text": [
      "--2025-01-21 21:35:01--  https://raw.githubusercontent.com/karpathy/char-rnn/master/data/tinyshakespeare/input.txt\n",
      "Resolving raw.githubusercontent.com (raw.githubusercontent.com)... 185.199.109.133, 185.199.110.133, 185.199.111.133, ...\n",
      "Connecting to raw.githubusercontent.com (raw.githubusercontent.com)|185.199.109.133|:443... connected.\n",
      "HTTP request sent, awaiting response... 200 OK\n",
      "Length: 1115394 (1.1M) [text/plain]\n",
      "Saving to: ‘input.txt’\n",
      "\n",
      "input.txt           100%[===================>]   1.06M  3.20MB/s    in 0.3s    \n",
      "\n",
      "2025-01-21 21:35:01 (3.20 MB/s) - ‘input.txt’ saved [1115394/1115394]\n",
      "\n"
     ]
    }
   ],
   "source": [
    "#TRain a transformer\n",
    "\n",
    "# We always start with a dataset to train on. Let's download the tiny shakespeare dataset\n",
    "!wget https://raw.githubusercontent.com/karpathy/char-rnn/master/data/tinyshakespeare/input.txt \n"
   ]
  },
  {
   "cell_type": "code",
   "execution_count": 2,
   "metadata": {},
   "outputs": [],
   "source": [
    "with open('input.txt', 'r', encoding = 'utf-8') as f:\n",
    "    text = f.read()\n"
   ]
  },
  {
   "cell_type": "code",
   "execution_count": 3,
   "metadata": {},
   "outputs": [
    {
     "name": "stdout",
     "output_type": "stream",
     "text": [
      "length of the dataset in characters: 1115394\n"
     ]
    }
   ],
   "source": [
    "print(f\"length of the dataset in characters: {len(text)}\")"
   ]
  },
  {
   "cell_type": "code",
   "execution_count": 4,
   "metadata": {},
   "outputs": [
    {
     "name": "stdout",
     "output_type": "stream",
     "text": [
      "\n",
      " !$&',-.3:;?ABCDEFGHIJKLMNOPQRSTUVWXYZabcdefghijklmnopqrstuvwxyz\n",
      "65 chars\n"
     ]
    }
   ],
   "source": [
    "##Sort the text\n",
    "chars = sorted(list(set(text)))\n",
    "vocab_size = len(chars)\n",
    "all_chars = ''.join(chars)\n",
    "\n",
    "print(f\"{all_chars}\")\n",
    "print(f\"{vocab_size} chars\")\n",
    "      "
   ]
  },
  {
   "cell_type": "markdown",
   "metadata": {},
   "source": [
    "Tokenizer"
   ]
  },
  {
   "cell_type": "code",
   "execution_count": 5,
   "metadata": {},
   "outputs": [],
   "source": [
    "#Lets work on tokenization\n",
    "\n",
    "stoi = {ch:i for i,ch in enumerate(chars)}\n",
    "itos = {i:ch for i,ch in enumerate(chars)}\n",
    "\n",
    "encode = lambda s: [stoi[c] for c in s]\n",
    "decoder = lambda l: [itos[c] for c in l]\n",
    "\n"
   ]
  },
  {
   "cell_type": "code",
   "execution_count": null,
   "metadata": {},
   "outputs": [
    {
     "name": "stdout",
     "output_type": "stream",
     "text": [
      "Every integer in data represents a single character  torch.Size([1115394])\n"
     ]
    }
   ],
   "source": [
    "import torch\n",
    "data = torch.tensor(encode(text), dtype = torch.long)\n",
    "print(\"Every integer in data represents a single character \", data.shape)\n"
   ]
  },
  {
   "cell_type": "code",
   "execution_count": 7,
   "metadata": {},
   "outputs": [],
   "source": [
    "#split\n",
    "n = int(0.9*len(data))\n",
    "\n",
    "train_data = data[:n]\n",
    "val_data = data[n:]"
   ]
  },
  {
   "cell_type": "code",
   "execution_count": 8,
   "metadata": {},
   "outputs": [
    {
     "data": {
      "text/plain": [
       "'8 examples come out of nine characters given the context for interpreting the next prediction '"
      ]
     },
     "execution_count": 8,
     "metadata": {},
     "output_type": "execute_result"
    }
   ],
   "source": [
    "context_length = 8\n",
    "train_data[:context_length+1]\n",
    "\n",
    "\"8 examples come out of nine characters given the context for interpreting the next prediction \""
   ]
  },
  {
   "cell_type": "code",
   "execution_count": 9,
   "metadata": {},
   "outputs": [
    {
     "name": "stdout",
     "output_type": "stream",
     "text": [
      "when input is tensor([18]) the target: 47\n",
      "when input is tensor([18, 47]) the target: 56\n",
      "when input is tensor([18, 47, 56]) the target: 57\n",
      "when input is tensor([18, 47, 56, 57]) the target: 58\n",
      "when input is tensor([18, 47, 56, 57, 58]) the target: 1\n",
      "when input is tensor([18, 47, 56, 57, 58,  1]) the target: 15\n",
      "when input is tensor([18, 47, 56, 57, 58,  1, 15]) the target: 47\n",
      "when input is tensor([18, 47, 56, 57, 58,  1, 15, 47]) the target: 58\n"
     ]
    }
   ],
   "source": [
    "x = train_data[:context_length]\n",
    "y = train_data[1:context_length+1]\n",
    "\n",
    "for t in range(context_length):\n",
    "    context = x[:t+1]\n",
    "    target = y[t]\n",
    "    \n",
    "    print(f\"when input is {context} the target: {target}\")"
   ]
  },
  {
   "cell_type": "code",
   "execution_count": null,
   "metadata": {},
   "outputs": [
    {
     "name": "stdout",
     "output_type": "stream",
     "text": [
      "inputs:\n",
      "torch.Size([4, 8])\n",
      "tensor([[24, 43, 58,  5, 57,  1, 46, 43],\n",
      "        [44, 53, 56,  1, 58, 46, 39, 58],\n",
      "        [52, 58,  1, 58, 46, 39, 58,  1],\n",
      "        [25, 17, 27, 10,  0, 21,  1, 54]])\n",
      "targets:\n",
      "torch.Size([4, 8])\n",
      "tensor([[43, 58,  5, 57,  1, 46, 43, 39],\n",
      "        [53, 56,  1, 58, 46, 39, 58,  1],\n",
      "        [58,  1, 58, 46, 39, 58,  1, 46],\n",
      "        [17, 27, 10,  0, 21,  1, 54, 39]])\n",
      "----\n",
      "when input is [24] the target: 43\n",
      "when input is [24, 43] the target: 58\n",
      "when input is [24, 43, 58] the target: 5\n",
      "when input is [24, 43, 58, 5] the target: 57\n",
      "when input is [24, 43, 58, 5, 57] the target: 1\n",
      "when input is [24, 43, 58, 5, 57, 1] the target: 46\n",
      "when input is [24, 43, 58, 5, 57, 1, 46] the target: 43\n",
      "when input is [24, 43, 58, 5, 57, 1, 46, 43] the target: 39\n",
      "when input is [44] the target: 53\n",
      "when input is [44, 53] the target: 56\n",
      "when input is [44, 53, 56] the target: 1\n",
      "when input is [44, 53, 56, 1] the target: 58\n",
      "when input is [44, 53, 56, 1, 58] the target: 46\n",
      "when input is [44, 53, 56, 1, 58, 46] the target: 39\n",
      "when input is [44, 53, 56, 1, 58, 46, 39] the target: 58\n",
      "when input is [44, 53, 56, 1, 58, 46, 39, 58] the target: 1\n",
      "when input is [52] the target: 58\n",
      "when input is [52, 58] the target: 1\n",
      "when input is [52, 58, 1] the target: 58\n",
      "when input is [52, 58, 1, 58] the target: 46\n",
      "when input is [52, 58, 1, 58, 46] the target: 39\n",
      "when input is [52, 58, 1, 58, 46, 39] the target: 58\n",
      "when input is [52, 58, 1, 58, 46, 39, 58] the target: 1\n",
      "when input is [52, 58, 1, 58, 46, 39, 58, 1] the target: 46\n",
      "when input is [25] the target: 17\n",
      "when input is [25, 17] the target: 27\n",
      "when input is [25, 17, 27] the target: 10\n",
      "when input is [25, 17, 27, 10] the target: 0\n",
      "when input is [25, 17, 27, 10, 0] the target: 21\n",
      "when input is [25, 17, 27, 10, 0, 21] the target: 1\n",
      "when input is [25, 17, 27, 10, 0, 21, 1] the target: 54\n",
      "when input is [25, 17, 27, 10, 0, 21, 1, 54] the target: 39\n"
     ]
    }
   ],
   "source": [
    "torch.manual_seed(1337)\n",
    "batch_size = 4\n",
    "context_length = 8\n",
    "\n",
    "def get_batch(split):\n",
    "    data = train_data if split == 'train' else val_data\n",
    "    ix = torch.randint(len(data) - context_length, (batch_size,)) #tensor of four integers representing four characters from the text\n",
    "    # So for the random characters, we get i and then up to the block size. Then we put in a bigger tensor\n",
    "    x = torch.stack([data[i:i+context_length] for i in ix])\n",
    "    #same thing for y\n",
    "    y = torch.stack([data[i+1:i+context_length+1] for i in ix])\n",
    "    \n",
    "    return x,y\n",
    "\n",
    "xb, yb = get_batch('train')\n",
    "\n",
    "print('inputs:')\n",
    "print(xb.shape)\n",
    "print(xb)\n",
    "print('targets:')\n",
    "print(yb.shape)\n",
    "print(yb)\n",
    "\n",
    "print('----')\n",
    "\n",
    "#This is where we show all of the 'examples' within our dataset. This is helpful for incorporating different context lengths\n",
    "for b in range(batch_size):\n",
    "    for t in range(context_length):\n",
    "        context = xb[b, :t+1]\n",
    "        target = yb[b,t]\n",
    "        \n",
    "        print(f\"when input is {context.tolist()} the target: {target}\")\n",
    "\n"
   ]
  },
  {
   "cell_type": "code",
   "execution_count": 31,
   "metadata": {},
   "outputs": [
    {
     "name": "stdout",
     "output_type": "stream",
     "text": [
      "sample generated: torch.Size([1, 101])\n",
      "Decoded output: \n",
      "Sr?qP-QWktXoL&jLDJgOLVz'RIoDqHdhsV&vLLxatjscMpwLERSPyao.qfzs$Ys$zF-w,;eEkzxjgCKFChs!iWW.ObzDnxA Ms$3\n"
     ]
    }
   ],
   "source": [
    "import torch\n",
    "import torch.nn as nn\n",
    "from torch.nn import functional as F\n",
    "\n",
    "torch.manual_seed(1337)\n",
    "\n",
    "class BigramLanguageModel(nn.Module):\n",
    "    \n",
    "    def __init__(self, vocab_size):\n",
    "        super().__init__()\n",
    "        \n",
    "        #Create embedding table where each index(representing individual characters) \n",
    "        # will pull out a row from the embedding table\n",
    "        self.token_embedding_table = nn.Embedding(vocab_size, vocab_size)\n",
    "        \n",
    "        \n",
    "    def forward(self, idx, targets = None):\n",
    "       \n",
    "        #idx and targets are both (b, context_length) tensor of integers\n",
    "        logits = self.token_embedding_table(idx) #output is (B,T,C)\n",
    "        \n",
    "        if targets is None: \n",
    "            loss = None\n",
    "        else:\n",
    "            B,T,C = logits.shape\n",
    "            logits = logits.view(B*T, C) #-> for cross entropy\n",
    "            targets = targets.view(B*T) #reshaping\n",
    "            \n",
    "            #negative log likelihood\n",
    "            loss = F.cross_entropy(logits, targets)\n",
    "        \n",
    "        return logits, loss\n",
    "    \n",
    "    \n",
    "    def generate(self, idx, max_new_tokens):\n",
    "        \n",
    "        #idx is (B,context_length) array of indices in the current context. Predicting token by token\n",
    "        for _ in range(max_new_tokens):\n",
    "            logits, loss = self(idx)\n",
    "            \n",
    "            #focus only on the last example (where we consider the max token length TODO: Understand why here)\n",
    "            #These are the predictions for what comes next\n",
    "            logits = logits[:,-1,:]\n",
    "            \n",
    "            #Apply softmax to get the probabilities\n",
    "            probs = F.softmax(logits, dim = -1) #B, C\n",
    "            \n",
    "            idx_next = torch.multinomial(probs, num_samples = 1) #for each context length in the batch return the next selection based on probabilities distribution\n",
    "            \n",
    "            idx = torch.cat((idx, idx_next), dim = 1) #concatenate to the idx to create (B, T+1)\n",
    "            #print(f\"current status of idx: {idx}\")\n",
    "            \n",
    "        return idx\n",
    "    \n",
    "\n",
    "m = BigramLanguageModel(vocab_size)\n",
    "logits, loss = m(xb, yb)\n",
    "\n",
    "starting_index = torch.zeros((1,1), dtype = torch.long) #Kicking off generation with zero tensors\n",
    "sample_generated = m.generate(starting_index, max_new_tokens=100)\n",
    "print(f\"sample generated: {sample_generated.shape}\")\n",
    "#Sample generated works on the order of batches so we need to grab the return batch (it's effectively nested in a list)\n",
    "batch_of_interest = sample_generated[0]\n",
    "\n",
    "#Turn it into a list and decode\n",
    "decoded = decoder(batch_of_interest.tolist())\n",
    "\"\"\"(batch size, context_length (really number fo tokens we are looking at, \n",
    "embedding length per token))\"\"\"\n",
    "\n",
    "print(f\"Decoded output: {''.join(decoded)}\")"
   ]
  },
  {
   "cell_type": "code",
   "execution_count": null,
   "metadata": {},
   "outputs": [],
   "source": [
    "#Create optimizer\n",
    "optimizer = torch.optim.AdamW(m.parameters(), lr = 1e-3)"
   ]
  },
  {
   "cell_type": "code",
   "execution_count": 39,
   "metadata": {},
   "outputs": [
    {
     "name": "stdout",
     "output_type": "stream",
     "text": [
      "2.6088967323303223\n"
     ]
    }
   ],
   "source": [
    "\n",
    "\n",
    "batch_size = 32\n",
    "for steps in range(1000):\n",
    "    \n",
    "    #get batch\n",
    "    xb, yb = get_batch('train')\n",
    "    \n",
    "    #forward pass\n",
    "    logits, loss = m(xb, yb)\n",
    "    \n",
    "    #zeroing the gradients\n",
    "    optimizer.zero_grad(set_to_none = True)\n",
    "    #getting gradients for parameters\n",
    "    loss.backward()\n",
    "    #upgrade parameters using optimizer\n",
    "    optimizer.step()\n",
    "    \n",
    "print(loss.item())\n",
    "    \n"
   ]
  },
  {
   "cell_type": "code",
   "execution_count": 41,
   "metadata": {},
   "outputs": [
    {
     "name": "stdout",
     "output_type": "stream",
     "text": [
      "sample generated: torch.Size([1, 301])\n",
      "Decoded output: \n",
      "AchinkOvin Hooly zolIn kthitollvkefa; 'vezIO$ARO:\n",
      "HO:\n",
      "By tu\n",
      "PQ-d?e n ick:isanfeConus: tas, bycon,\n",
      "Eli!\n",
      "\n",
      "IHALETETEOUy-l, sthe.\n",
      "CONEDuse Mlitiard tf'd EnQhOMyarerytrevNTa!\n",
      "atD: tanTo sis; hitRWhedwid.\n",
      "puDYonymy thandoTowQ!\n",
      "ve:$ys s clllcUzPUpithinEneshh f r Isptlve II'A:'I!\n",
      "pJOFtomukeg.\n",
      "G wf tYZxrolb\n",
      "\n"
     ]
    }
   ],
   "source": [
    "starting_index = torch.zeros((1,1), dtype = torch.long) #Kicking off generation with zero tensors\n",
    "sample_generated = m.generate(starting_index, max_new_tokens=300)\n",
    "print(f\"sample generated: {sample_generated.shape}\")\n",
    "#Sample generated works on the order of batches so we need to grab the return batch (it's effectively nested in a list)\n",
    "batch_of_interest = sample_generated[0]\n",
    "\n",
    "#Turn it into a list and decode\n",
    "decoded = decoder(batch_of_interest.tolist())\n",
    "\"\"\"(batch size, context_length (really number fo tokens we are looking at, \n",
    "embedding length per token))\"\"\"\n",
    "\n",
    "print(f\"Decoded output: {''.join(decoded)}\")"
   ]
  },
  {
   "cell_type": "markdown",
   "metadata": {},
   "source": [
    "#### Self-attention"
   ]
  },
  {
   "cell_type": "code",
   "execution_count": 43,
   "metadata": {},
   "outputs": [
    {
     "data": {
      "text/plain": [
       "tensor([[[ 0.1808, -0.0700],\n",
       "         [-0.3596, -0.9152],\n",
       "         [ 0.6258,  0.0255],\n",
       "         [ 0.9545,  0.0643],\n",
       "         [ 0.3612,  1.1679],\n",
       "         [-1.3499, -0.5102],\n",
       "         [ 0.2360, -0.2398],\n",
       "         [-0.9211,  1.5433]],\n",
       "\n",
       "        [[ 1.3488, -0.1396],\n",
       "         [ 0.2858,  0.9651],\n",
       "         [-2.0371,  0.4931],\n",
       "         [ 1.4870,  0.5910],\n",
       "         [ 0.1260, -1.5627],\n",
       "         [-1.1601, -0.3348],\n",
       "         [ 0.4478, -0.8016],\n",
       "         [ 1.5236,  2.5086]],\n",
       "\n",
       "        [[-0.6631, -0.2513],\n",
       "         [ 1.0101,  0.1215],\n",
       "         [ 0.1584,  1.1340],\n",
       "         [-1.1539, -0.2984],\n",
       "         [-0.5075, -0.9239],\n",
       "         [ 0.5467, -1.4948],\n",
       "         [-1.2057,  0.5718],\n",
       "         [-0.5974, -0.6937]],\n",
       "\n",
       "        [[ 1.6455, -0.8030],\n",
       "         [ 1.3514, -0.2759],\n",
       "         [-1.5108,  2.1048],\n",
       "         [ 2.7630, -1.7465],\n",
       "         [ 1.4516, -1.5103],\n",
       "         [ 0.8212, -0.2115],\n",
       "         [ 0.7789,  1.5333],\n",
       "         [ 1.6097, -0.4032]]])"
      ]
     },
     "execution_count": 43,
     "metadata": {},
     "output_type": "execute_result"
    }
   ],
   "source": [
    "torch.manual_seed(1337)\n",
    "B,T,C = 4,8,2\n",
    "\n",
    "x = torch.randn(B,T,C)\n",
    "x"
   ]
  },
  {
   "cell_type": "code",
   "execution_count": null,
   "metadata": {},
   "outputs": [],
   "source": []
  },
  {
   "cell_type": "code",
   "execution_count": 67,
   "metadata": {},
   "outputs": [],
   "source": [
    "#toy example with loops\n",
    "\n",
    "torch.manual_seed(42)\n",
    "B,T,C = 4,8,2\n",
    "\n",
    "x = torch.randn(B,T,C)\n",
    "x.shape\n",
    "#Tokens should not look ahead at future tokens. 5th token should only look backward. \n",
    "\n",
    "xbow = torch.zeros((B,T,C))\n",
    "xbow2 = torch.zeros((B,T,C))\n",
    "\n",
    "for b in range(B):\n",
    "    for t in range(T):\n",
    "        xprev = x[b,:t+1]\n",
    "        xbow[b,t] = torch.mean(xprev, 0)\n",
    "        \n",
    "        xprev2 = x[b][:t+1]\n",
    "        xbow2[b][t] = torch.mean(xprev, 0)\n",
    "        \n",
    "#print(\"Xbow: \",xbow)\n",
    "#print(\"Xbow2: \", xbow2)"
   ]
  },
  {
   "cell_type": "code",
   "execution_count": 69,
   "metadata": {},
   "outputs": [
    {
     "name": "stdout",
     "output_type": "stream",
     "text": [
      "a= \n",
      "tensor([[1.0000, 0.0000, 0.0000],\n",
      "        [0.5000, 0.5000, 0.0000],\n",
      "        [0.3333, 0.3333, 0.3333]])\n",
      "--\n",
      "b=\n",
      "tensor([[2., 7.],\n",
      "        [6., 4.],\n",
      "        [6., 5.]])\n",
      "--\n",
      "c=\n",
      "tensor([[2.0000, 7.0000],\n",
      "        [4.0000, 5.5000],\n",
      "        [4.6667, 5.3333]])\n"
     ]
    },
    {
     "data": {
      "text/plain": [
       "\"Think about what a/torch.sum(a,1, keepdim = True) means here. We're normalizing each row of a to 1 \\nWith this structure we have a means of calculating the 'average' input each character gives to the remaining characters\\nin the row. However, be careful! Averages are not the only way to calculate this!\""
      ]
     },
     "execution_count": 69,
     "metadata": {},
     "output_type": "execute_result"
    }
   ],
   "source": [
    "##another toy example with matrix multiplication\n",
    "#torch.tril(torch.ones(3,3))\n",
    "torch.manual_seed(42)\n",
    "a = torch.tril(torch.ones(3,3))\n",
    "a = a /torch.sum(a, 1, keepdim=True)\n",
    "b = torch.randint(0,10,(3,2)).float()\n",
    "\n",
    "c = a@b\n",
    "print('a= ')\n",
    "print(a)\n",
    "\n",
    "print('--')\n",
    "print(\"b=\")\n",
    "print(b)\n",
    "\n",
    "print('--')\n",
    "print('c=')\n",
    "print(c)\n",
    "\n",
    "\"\"\"Think about what a/torch.sum(a,1, keepdim = True) means here. We're normalizing each row of a to 1 \n",
    "With this structure we have a means of calculating the 'average' input each character gives to the remaining characters\n",
    "in the row. However, be careful! Averages are not the only way to calculate this!\"\"\""
   ]
  },
  {
   "cell_type": "markdown",
   "metadata": {},
   "source": [
    "## Multiplication method"
   ]
  },
  {
   "cell_type": "code",
   "execution_count": null,
   "metadata": {},
   "outputs": [
    {
     "name": "stdout",
     "output_type": "stream",
     "text": [
      "xmatrix,  torch.Size([4, 8, 2])\n",
      "triangular:  torch.Size([8, 8])\n"
     ]
    }
   ],
   "source": [
    "triangular = torch.tril(torch.ones(T,T))\n",
    "triangular = triangular/torch.sum(triangular, 1, keepdim = True)\n",
    "print(\"xmatrix, \", x.shape)\n",
    "print(\"triangular: \",triangular.shape)\n",
    "c = triangular@x # ---> (T,T) @ (B,T,C) --> (B,T,T) @ *(B,T,C)\n",
    "\n",
    "\"\"\"Think about what we demonstrated here! We calculated the averages of the triangular which represent weights from preceding tokens\"\"\""
   ]
  },
  {
   "cell_type": "code",
   "execution_count": 71,
   "metadata": {},
   "outputs": [
    {
     "data": {
      "text/plain": [
       "True"
      ]
     },
     "execution_count": 71,
     "metadata": {},
     "output_type": "execute_result"
    }
   ],
   "source": [
    "torch.allclose(c,xbow)"
   ]
  },
  {
   "cell_type": "code",
   "execution_count": 59,
   "metadata": {},
   "outputs": [
    {
     "data": {
      "text/plain": [
       "tensor([[1., 0., 0., 0., 0., 0., 0., 0.],\n",
       "        [1., 1., 0., 0., 0., 0., 0., 0.],\n",
       "        [1., 1., 1., 0., 0., 0., 0., 0.],\n",
       "        [1., 1., 1., 1., 0., 0., 0., 0.],\n",
       "        [1., 1., 1., 1., 1., 0., 0., 0.],\n",
       "        [1., 1., 1., 1., 1., 1., 0., 0.],\n",
       "        [1., 1., 1., 1., 1., 1., 1., 0.],\n",
       "        [1., 1., 1., 1., 1., 1., 1., 1.]])"
      ]
     },
     "execution_count": 59,
     "metadata": {},
     "output_type": "execute_result"
    }
   ],
   "source": [
    "triangular"
   ]
  },
  {
   "cell_type": "code",
   "execution_count": null,
   "metadata": {},
   "outputs": [],
   "source": []
  },
  {
   "cell_type": "code",
   "execution_count": 53,
   "metadata": {},
   "outputs": [
    {
     "data": {
      "text/plain": [
       "tensor([[[ 1.6318e+00, -6.3176e-01],\n",
       "         [ 2.8210e-01,  7.1790e-01],\n",
       "         [ 9.6083e-01,  3.9169e-02],\n",
       "         [ 9.3684e-01,  6.3157e-02],\n",
       "         [ 2.3620e-01,  7.6380e-01],\n",
       "         [ 7.2572e-01,  2.7428e-01],\n",
       "         [-6.1758e+01,  6.2758e+01],\n",
       "         [-1.4805e+00,  2.4805e+00]],\n",
       "\n",
       "        [[ 1.1155e+00, -1.1548e-01],\n",
       "         [ 2.2847e-01,  7.7153e-01],\n",
       "         [ 1.3194e+00, -3.1939e-01],\n",
       "         [ 7.1558e-01,  2.8442e-01],\n",
       "         [-8.7724e-02,  1.0877e+00],\n",
       "         [ 7.7602e-01,  2.2398e-01],\n",
       "         [-1.2653e+00,  2.2653e+00],\n",
       "         [ 3.7786e-01,  6.2214e-01]],\n",
       "\n",
       "        [[ 7.2519e-01,  2.7481e-01],\n",
       "         [ 8.9260e-01,  1.0740e-01],\n",
       "         [ 1.2256e-01,  8.7744e-01],\n",
       "         [ 7.9453e-01,  2.0547e-01],\n",
       "         [ 3.5456e-01,  6.4544e-01],\n",
       "         [-5.7665e-01,  1.5767e+00],\n",
       "         [ 1.9021e+00, -9.0207e-01],\n",
       "         [ 4.6270e-01,  5.3730e-01]],\n",
       "\n",
       "        [[ 1.9531e+00, -9.5306e-01],\n",
       "         [ 1.2566e+00, -2.5655e-01],\n",
       "         [-2.5438e+00,  3.5438e+00],\n",
       "         [ 2.7183e+00, -1.7183e+00],\n",
       "         [-2.4732e+01,  2.5732e+01],\n",
       "         [ 1.3470e+00, -3.4698e-01],\n",
       "         [ 3.3687e-01,  6.6313e-01],\n",
       "         [ 1.3342e+00, -3.3421e-01]]])"
      ]
     },
     "execution_count": 53,
     "metadata": {},
     "output_type": "execute_result"
    }
   ],
   "source": [
    "x_matrix"
   ]
  },
  {
   "cell_type": "code",
   "execution_count": null,
   "metadata": {},
   "outputs": [],
   "source": []
  },
  {
   "cell_type": "code",
   "execution_count": null,
   "metadata": {},
   "outputs": [],
   "source": [
    "##Version 3: \n",
    "\n",
    "tril = torch.tril(torch.ones(T,T))\n",
    "\n",
    "wei = torch.zeros((T,T)) #--> really affiniities that are dependent upon data and learning. We learn these weights!\n",
    "wei = wei.masked_fill(tril == 0, float('-inf')) #future cannot communicate with the past\n",
    "wei = F.softmax(wei, dim = -1)\n",
    "xbow3 = wei @ x\n",
    "torch.allclose(xbow, xbow3)"
   ]
  },
  {
   "cell_type": "code",
   "execution_count": null,
   "metadata": {},
   "outputs": [
    {
     "data": {
      "text/plain": [
       "torch.Size([4, 8, 16])"
      ]
     },
     "execution_count": 76,
     "metadata": {},
     "output_type": "execute_result"
    }
   ],
   "source": [
    "#Version 4 Self-attention!\n",
    "torch.manual_seed(1337)\n",
    "B,T,C = 4,8,32 #batch, time, channels\n",
    "\n",
    "#Lets see a single head perform self-atttention\n",
    "head_size = 16\n",
    "key = nn.Linear(C, head_size, bias = False)\n",
    "query = nn.Linear(C, head_size,  bias = False)\n",
    "value = nn.Linear(C, head_size, bias = False)\n",
    "\n",
    "k = key(x) #(B,T, 16)\n",
    "q = query(x) #(B,T,16)\n",
    "\n",
    "wei = q@k.transpose(-2, -1) * (head_size**0.5) #transpose last two dimensions -> B,T,16 @ (B,16,T) ---> B, T, T. Showing affinities between tokens in queries and keys!\n",
    "\n",
    "#^note the scaling above\n",
    "\n",
    "x = torch.randn(B,T,C)\n",
    "tril = torch.tril(torch.ones(T,T))\n",
    "#wei = torch.zeros((T,T))\n",
    "\n",
    "wei = wei.masked_fill(tril == 0, float('-inf')) #prevent future masking!\n",
    "wei = F.softmax(wei, dim = -1)#nice aggregation so weights are useful!\n",
    "\n",
    "v = value(x)\n",
    "out = wei@v #v is the vectors that we use to aggregate the impact of Q and K on tokens projected to V subspace\n",
    "out.shape"
   ]
  },
  {
   "cell_type": "code",
   "execution_count": 81,
   "metadata": {},
   "outputs": [
    {
     "data": {
      "text/plain": [
       "torch.Size([8, 32])"
      ]
     },
     "execution_count": 81,
     "metadata": {},
     "output_type": "execute_result"
    }
   ],
   "source": [
    "x[0].shape"
   ]
  },
  {
   "cell_type": "code",
   "execution_count": 82,
   "metadata": {},
   "outputs": [
    {
     "data": {
      "text/plain": [
       "tensor([[ 0.0512,  0.0713,  0.2697, -0.3172,  0.9616,  1.0172, -0.3177, -0.2535,\n",
       "          0.2846, -0.1037,  0.4592,  0.6528,  0.4756, -0.3411,  0.0508, -0.7247],\n",
       "        [-0.2612,  0.3187, -0.2735, -0.7162,  0.6417,  0.5328,  0.1999, -0.8511,\n",
       "          0.8913,  0.0559,  0.8147,  0.1956,  0.1320,  0.1563, -0.7694, -0.1499],\n",
       "        [-0.1229, -0.1420, -0.4644, -0.4878, -0.9135, -0.8398,  0.9232,  0.8595,\n",
       "         -0.0495, -0.4269, -0.5219, -0.3808,  0.5760,  0.1216,  0.0963,  0.9161],\n",
       "        [-0.2617, -0.6189,  0.0530,  0.8612, -0.5344,  0.6039,  0.1786,  0.0475,\n",
       "          0.3528,  0.1594,  0.0934,  0.3796,  0.4497,  0.6299, -0.1479,  0.6181],\n",
       "        [ 0.5290,  0.2105, -0.7123, -0.4573,  0.3816,  0.0186, -0.0249,  0.3256,\n",
       "         -0.3851,  0.6592, -0.7780, -0.7986,  0.1654, -0.7854,  0.3081, -0.0177],\n",
       "        [ 0.0422,  0.2055,  0.7199, -0.0295, -0.0580, -0.3567,  0.3860, -0.4306,\n",
       "          0.2643,  0.0803, -0.0359,  0.6603, -0.1632,  0.0101, -0.0192,  0.7446],\n",
       "        [ 0.0993,  0.1366, -0.0168,  0.0924,  0.4971, -0.2735,  0.0382,  0.3317,\n",
       "          0.4834, -0.1085, -0.0897,  0.3782,  0.5819, -0.1028, -0.3561, -0.3418],\n",
       "        [ 0.1577,  0.1145,  0.4160, -0.0413,  0.6058,  0.2919,  0.0659, -0.7415,\n",
       "         -0.0892, -0.4356,  0.1425, -0.3491, -0.7596, -0.2186, -0.2809, -0.5007]],\n",
       "       grad_fn=<SelectBackward0>)"
      ]
     },
     "execution_count": 82,
     "metadata": {},
     "output_type": "execute_result"
    }
   ],
   "source": [
    "v[0]"
   ]
  },
  {
   "cell_type": "code",
   "execution_count": 75,
   "metadata": {},
   "outputs": [
    {
     "data": {
      "text/plain": [
       "tensor([[1.0000, 0.0000, 0.0000, 0.0000, 0.0000, 0.0000, 0.0000, 0.0000],\n",
       "        [0.5000, 0.5000, 0.0000, 0.0000, 0.0000, 0.0000, 0.0000, 0.0000],\n",
       "        [0.3333, 0.3333, 0.3333, 0.0000, 0.0000, 0.0000, 0.0000, 0.0000],\n",
       "        [0.2500, 0.2500, 0.2500, 0.2500, 0.0000, 0.0000, 0.0000, 0.0000],\n",
       "        [0.2000, 0.2000, 0.2000, 0.2000, 0.2000, 0.0000, 0.0000, 0.0000],\n",
       "        [0.1667, 0.1667, 0.1667, 0.1667, 0.1667, 0.1667, 0.0000, 0.0000],\n",
       "        [0.1429, 0.1429, 0.1429, 0.1429, 0.1429, 0.1429, 0.1429, 0.0000],\n",
       "        [0.1250, 0.1250, 0.1250, 0.1250, 0.1250, 0.1250, 0.1250, 0.1250]])"
      ]
     },
     "execution_count": 75,
     "metadata": {},
     "output_type": "execute_result"
    }
   ],
   "source": [
    "wei"
   ]
  },
  {
   "cell_type": "code",
   "execution_count": null,
   "metadata": {},
   "outputs": [],
   "source": [
    "\"Query - what am I looking for\"\n",
    "\"Key - what do I contain\"\n",
    "\"Value - we use this aggergate the token impacts for a single head. Here's what I will communicate to you projecting token embeddings to head space\"\n",
    "\"affinity - dot product of Q@K\""
   ]
  }
 ],
 "metadata": {
  "kernelspec": {
   "display_name": "a-alpha-conda",
   "language": "python",
   "name": "python3"
  },
  "language_info": {
   "codemirror_mode": {
    "name": "ipython",
    "version": 3
   },
   "file_extension": ".py",
   "mimetype": "text/x-python",
   "name": "python",
   "nbconvert_exporter": "python",
   "pygments_lexer": "ipython3",
   "version": "3.10.14"
  }
 },
 "nbformat": 4,
 "nbformat_minor": 2
}
