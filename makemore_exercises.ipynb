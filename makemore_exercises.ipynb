{
 "cells": [
  {
   "cell_type": "markdown",
   "metadata": {},
   "source": [
    "## Starting Makemore!"
   ]
  },
  {
   "cell_type": "code",
   "execution_count": 37,
   "metadata": {},
   "outputs": [],
   "source": [
    "import torch\n",
    "import torch.nn.functional as F\n",
    "import matplotlib.pyplot as plt\n",
    "from tqdm import tqdm"
   ]
  },
  {
   "cell_type": "code",
   "execution_count": 2,
   "metadata": {},
   "outputs": [],
   "source": [
    "\n",
    "words = open('./names.txt','r').read().splitlines()\n",
    "all_chars = []\n",
    "for w in words:\n",
    "    all_chars += list(set(w))\n",
    "\n",
    "\n",
    "#Alternative\n",
    "# sorted(list(set(''.join(words)))) #alphabetical listing of all characters in the words\n",
    "all_chars = list(set(all_chars))\n",
    "\n",
    "stoi = {char:num for char, num in zip(sorted(all_chars), range(1, len(all_chars)+1))}\n",
    "stoi['.'] = 0\n",
    "\n",
    "itos = {i:s for s, i in stoi.items()}"
   ]
  },
  {
   "cell_type": "code",
   "execution_count": 3,
   "metadata": {},
   "outputs": [
    {
     "name": "stdout",
     "output_type": "stream",
     "text": [
      "Number of examples:  196113\n",
      "Xs shape  torch.Size([196113, 2])\n"
     ]
    }
   ],
   "source": [
    "##Exercise 1:\n",
    "\"\"\"\n",
    "01: train a trigram language model, i.e. take two characters as an input to predict the 3rd one. \n",
    "Feel free to use either counting or a neural net. Evaluate the loss; Did it improve over a bigram model?\n",
    "\"\"\"\n",
    "\n",
    "#Create bigram training set\n",
    "xs = []\n",
    "ys = []\n",
    "\n",
    "for w in words:\n",
    "    chs = ['.'] + list(w) + ['.'] #adding start and end token to the word character\n",
    "    for ch1, ch2, ch3 in zip(chs, chs[1:], chs[2:]):\n",
    "        #print(f'Ch1: ', ch1)\n",
    "        #print(f'Ch2: ', ch2)\n",
    "        #print(f'Ch3: ', ch3)\n",
    "        ix1 = stoi.get(ch1, 'ix1 missing')\n",
    "        ix2 = stoi.get(ch2, 'ix2 missing')\n",
    "        ix3 = stoi.get(ch3, 'ix3 missing')\n",
    "\n",
    "        #print('-----')\n",
    "        xs.append((ix1, ix2))\n",
    "        ys.append(ix3)\n",
    "\n",
    "\n",
    "xs = torch.tensor(xs)\n",
    "ys = torch.tensor(ys)\n",
    "\n",
    "#Create num variable for getting probability distribution. Th\n",
    "num = xs.shape[0] #Changing this to properly count the number of samples we're using\n",
    "\n",
    "print('Number of examples: ', num)\n",
    "print('Xs shape ', xs.shape)"
   ]
  },
  {
   "cell_type": "markdown",
   "metadata": {},
   "source": [
    "### Concatenating embeddings approach\n",
    "- since we are now predicting off of a bigram input we need to adjust our one hot encoding. If we don't we won't be able to calculate the logits from the \n",
    "xenc@W operation. \n",
    "- One method to do this is by concatenating the one-hot encodings of the characters in the bigram. This preserves information from the encoding itself AND provides additional positional information. "
   ]
  },
  {
   "cell_type": "code",
   "execution_count": 4,
   "metadata": {},
   "outputs": [
    {
     "name": "stdout",
     "output_type": "stream",
     "text": [
      "bigram shape:  torch.Size([196113, 2])\n",
      "Encoding shape:  torch.Size([196113, 54])\n",
      "W shape:  torch.Size([54, 27])\n"
     ]
    },
    {
     "data": {
      "text/plain": [
       "tensor([1., 0., 0., 0., 0., 0., 0., 0., 0., 0., 0., 0., 0., 0., 0., 0., 0., 0.,\n",
       "        0., 0., 0., 0., 0., 0., 0., 0., 0., 0., 0., 0., 0., 0., 1., 0., 0., 0.,\n",
       "        0., 0., 0., 0., 0., 0., 0., 0., 0., 0., 0., 0., 0., 0., 0., 0., 0., 0.])"
      ]
     },
     "execution_count": 4,
     "metadata": {},
     "output_type": "execute_result"
    }
   ],
   "source": [
    "#Now we will work on one hot encoding the xs variables\n",
    "#For one hot encoding \n",
    "#2*len(stoi.keys() -> represents the dimension of the concatenated bigram\n",
    "g = torch.Generator().manual_seed(2147488364)\n",
    "W = torch.randn((2*len(stoi.keys()), 27), generator = g, requires_grad = True) #make sure that requires_grad is on!\n",
    "xenc = F.one_hot(xs,  num_classes = len(stoi.keys())).float().reshape(num, -1)\n",
    "print('bigram shape: ', xs.shape)\n",
    "print('Encoding shape: ', xenc.shape)\n",
    "print(\"W shape: \", W.shape)\n",
    "\n",
    "assert xenc.shape[1] == W.shape[0]#This assert \n",
    "xenc[0]\n"
   ]
  },
  {
   "cell_type": "code",
   "execution_count": 5,
   "metadata": {},
   "outputs": [
    {
     "data": {
      "text/plain": [
       "torch.Size([196113, 27])"
      ]
     },
     "execution_count": 5,
     "metadata": {},
     "output_type": "execute_result"
    }
   ],
   "source": [
    "(xenc@W).shape"
   ]
  },
  {
   "cell_type": "code",
   "execution_count": 6,
   "metadata": {},
   "outputs": [
    {
     "name": "stdout",
     "output_type": "stream",
     "text": [
      "Loss kth-iter 1:  4.4137163162231445\n",
      "Loss kth-iter 2:  4.305039882659912\n",
      "Loss kth-iter 3:  4.202096462249756\n",
      "Loss kth-iter 4:  4.104547500610352\n",
      "Loss kth-iter 5:  4.012162208557129\n",
      "Loss kth-iter 6:  3.9247820377349854\n",
      "Loss kth-iter 7:  3.8423073291778564\n",
      "Loss kth-iter 8:  3.7646777629852295\n",
      "Loss kth-iter 9:  3.6918578147888184\n",
      "Loss kth-iter 10:  3.6238186359405518\n",
      "Loss kth-iter 11:  3.5605199337005615\n",
      "Loss kth-iter 12:  3.50189471244812\n",
      "Loss kth-iter 13:  3.4478256702423096\n",
      "Loss kth-iter 14:  3.398139238357544\n",
      "Loss kth-iter 15:  3.3525946140289307\n",
      "Loss kth-iter 16:  3.310896396636963\n",
      "Loss kth-iter 17:  3.272705078125\n",
      "Loss kth-iter 18:  3.237658977508545\n",
      "Loss kth-iter 19:  3.205396890640259\n",
      "Loss kth-iter 20:  3.17557430267334\n",
      "Loss kth-iter 21:  3.1478793621063232\n",
      "Loss kth-iter 22:  3.122037649154663\n",
      "Loss kth-iter 23:  3.0978140830993652\n",
      "Loss kth-iter 24:  3.0750131607055664\n",
      "Loss kth-iter 25:  3.053471088409424\n",
      "Loss kth-iter 26:  3.0330543518066406\n",
      "Loss kth-iter 27:  3.0136518478393555\n",
      "Loss kth-iter 28:  2.9951722621917725\n",
      "Loss kth-iter 29:  2.9775383472442627\n",
      "Loss kth-iter 30:  2.9606847763061523\n",
      "Loss kth-iter 31:  2.9445559978485107\n",
      "Loss kth-iter 32:  2.9291019439697266\n",
      "Loss kth-iter 33:  2.914280414581299\n",
      "Loss kth-iter 34:  2.900052070617676\n",
      "Loss kth-iter 35:  2.8863816261291504\n",
      "Loss kth-iter 36:  2.873237371444702\n",
      "Loss kth-iter 37:  2.8605897426605225\n",
      "Loss kth-iter 38:  2.848410129547119\n",
      "Loss kth-iter 39:  2.8366761207580566\n",
      "Loss kth-iter 40:  2.825361728668213\n",
      "Loss kth-iter 41:  2.814445972442627\n",
      "Loss kth-iter 42:  2.803908348083496\n",
      "Loss kth-iter 43:  2.793729543685913\n",
      "Loss kth-iter 44:  2.783891201019287\n",
      "Loss kth-iter 45:  2.7743773460388184\n",
      "Loss kth-iter 46:  2.765172004699707\n",
      "Loss kth-iter 47:  2.7562596797943115\n",
      "Loss kth-iter 48:  2.7476272583007812\n",
      "Loss kth-iter 49:  2.7392611503601074\n",
      "Loss kth-iter 50:  2.731149196624756\n",
      "Loss kth-iter 51:  2.7232797145843506\n",
      "Loss kth-iter 52:  2.7156429290771484\n",
      "Loss kth-iter 53:  2.7082271575927734\n",
      "Loss kth-iter 54:  2.701023817062378\n",
      "Loss kth-iter 55:  2.694023609161377\n",
      "Loss kth-iter 56:  2.687217950820923\n",
      "Loss kth-iter 57:  2.6805992126464844\n",
      "Loss kth-iter 58:  2.674159288406372\n",
      "Loss kth-iter 59:  2.667891502380371\n",
      "Loss kth-iter 60:  2.6617884635925293\n",
      "Loss kth-iter 61:  2.6558444499969482\n",
      "Loss kth-iter 62:  2.6500535011291504\n",
      "Loss kth-iter 63:  2.644409656524658\n",
      "Loss kth-iter 64:  2.6389074325561523\n",
      "Loss kth-iter 65:  2.6335418224334717\n",
      "Loss kth-iter 66:  2.628308057785034\n",
      "Loss kth-iter 67:  2.6232011318206787\n",
      "Loss kth-iter 68:  2.6182169914245605\n",
      "Loss kth-iter 69:  2.6133508682250977\n",
      "Loss kth-iter 70:  2.608599901199341\n",
      "Loss kth-iter 71:  2.60395884513855\n",
      "Loss kth-iter 72:  2.5994250774383545\n",
      "Loss kth-iter 73:  2.5949950218200684\n",
      "Loss kth-iter 74:  2.590665102005005\n",
      "Loss kth-iter 75:  2.5864322185516357\n",
      "Loss kth-iter 76:  2.5822932720184326\n",
      "Loss kth-iter 77:  2.578245162963867\n",
      "Loss kth-iter 78:  2.5742855072021484\n",
      "Loss kth-iter 79:  2.57041072845459\n",
      "Loss kth-iter 80:  2.566619634628296\n",
      "Loss kth-iter 81:  2.56290864944458\n",
      "Loss kth-iter 82:  2.5592761039733887\n",
      "Loss kth-iter 83:  2.5557188987731934\n",
      "Loss kth-iter 84:  2.5522353649139404\n",
      "Loss kth-iter 85:  2.548823356628418\n",
      "Loss kth-iter 86:  2.545480966567993\n",
      "Loss kth-iter 87:  2.542206048965454\n",
      "Loss kth-iter 88:  2.538996696472168\n",
      "Loss kth-iter 89:  2.5358505249023438\n",
      "Loss kth-iter 90:  2.532766819000244\n",
      "Loss kth-iter 91:  2.5297434329986572\n",
      "Loss kth-iter 92:  2.52677845954895\n",
      "Loss kth-iter 93:  2.5238704681396484\n",
      "Loss kth-iter 94:  2.5210182666778564\n",
      "Loss kth-iter 95:  2.5182201862335205\n",
      "Loss kth-iter 96:  2.515474319458008\n",
      "Loss kth-iter 97:  2.512779712677002\n",
      "Loss kth-iter 98:  2.5101349353790283\n",
      "Loss kth-iter 99:  2.5075390338897705\n",
      "Loss kth-iter 100:  2.5049901008605957\n"
     ]
    }
   ],
   "source": [
    "loss_storage = []\n",
    "for iter in range(100):\n",
    "\n",
    "    #Now we have the probablities that each word is selected. \n",
    "    logits = (xenc@W) #This calculates neural network output\n",
    "\n",
    "    #needs to transform logits to positive and then scale \n",
    "    counts = logits.exp()\n",
    "    probs = counts / counts.sum(1, keepdims = True) #double check that we keep keepdims = True!\n",
    "\n",
    "    loss = -probs[torch.arange(num), ys].log().mean()\n",
    "\n",
    "    #Regularization attempt\n",
    "    loss += 0.01 * (W**2).mean()\n",
    "\n",
    "    W.grad = None#reset the gradient for the weght matrix\n",
    "    loss.backward() #do back propagation\n",
    "\n",
    "    print(f\"Loss kth-iter {iter + 1}: \", loss.item())\n",
    "    loss_storage.append(loss.item())\n",
    "\n",
    "    W.data += -5 * W.grad #we want to use a negative value here as we continue to minimize the loss"
   ]
  },
  {
   "cell_type": "code",
   "execution_count": 7,
   "metadata": {},
   "outputs": [
    {
     "data": {
      "text/plain": [
       "196113"
      ]
     },
     "execution_count": 7,
     "metadata": {},
     "output_type": "execute_result"
    }
   ],
   "source": [
    "num"
   ]
  },
  {
   "cell_type": "code",
   "execution_count": 8,
   "metadata": {},
   "outputs": [
    {
     "name": "stdout",
     "output_type": "stream",
     "text": [
      "------\n",
      "Input tensor:  [0, 0]\n",
      "reshape Encoding shape torch.Size([196113, 54])\n",
      "reshape Encoding,  tensor([[1., 0., 0.,  ..., 0., 0., 0.],\n",
      "        [0., 0., 0.,  ..., 0., 0., 0.],\n",
      "        [0., 0., 0.,  ..., 0., 0., 0.],\n",
      "        ...,\n",
      "        [0., 0., 0.,  ..., 0., 1., 0.],\n",
      "        [0., 0., 0.,  ..., 0., 0., 1.],\n",
      "        [0., 0., 0.,  ..., 1., 0., 0.]])\n",
      "mastal.\n",
      "------\n",
      "Input tensor:  [0, 0]\n",
      "reshape Encoding shape torch.Size([1, 54])\n",
      "reshape Encoding,  tensor([[0., 1., 0., 0., 0., 0., 0., 0., 0., 0., 0., 0., 0., 0., 0., 0., 0., 0.,\n",
      "         0., 0., 0., 0., 0., 0., 0., 0., 0., 0., 0., 0., 0., 0., 0., 0., 0., 0.,\n",
      "         0., 0., 0., 1., 0., 0., 0., 0., 0., 0., 0., 0., 0., 0., 0., 0., 0., 0.]])\n",
      "uan.\n",
      "------\n",
      "Input tensor:  [0, 0]\n",
      "reshape Encoding shape torch.Size([1, 54])\n",
      "reshape Encoding,  tensor([[0., 1., 0., 0., 0., 0., 0., 0., 0., 0., 0., 0., 0., 0., 0., 0., 0., 0.,\n",
      "         0., 0., 0., 0., 0., 0., 0., 0., 0., 0., 0., 0., 0., 0., 0., 0., 0., 0.,\n",
      "         0., 0., 0., 0., 0., 1., 0., 0., 0., 0., 0., 0., 0., 0., 0., 0., 0., 0.]])\n",
      "tmujlysoroynxgj.\n",
      "------\n",
      "Input tensor:  [0, 0]\n",
      "reshape Encoding shape torch.Size([1, 54])\n",
      "reshape Encoding,  tensor([[0., 0., 0., 0., 0., 0., 0., 1., 0., 0., 0., 0., 0., 0., 0., 0., 0., 0.,\n",
      "         0., 0., 0., 0., 0., 0., 0., 0., 0., 0., 0., 0., 0., 0., 0., 0., 0., 0.,\n",
      "         0., 1., 0., 0., 0., 0., 0., 0., 0., 0., 0., 0., 0., 0., 0., 0., 0., 0.]])\n",
      "radrio.\n",
      "------\n",
      "Input tensor:  [0, 0]\n",
      "reshape Encoding shape torch.Size([1, 54])\n",
      "reshape Encoding,  tensor([[0., 0., 0., 0., 0., 0., 0., 0., 0., 1., 0., 0., 0., 0., 0., 0., 0., 0.,\n",
      "         0., 0., 0., 0., 0., 0., 0., 0., 0., 0., 0., 0., 0., 0., 0., 0., 0., 0.,\n",
      "         0., 0., 0., 0., 0., 0., 1., 0., 0., 0., 0., 0., 0., 0., 0., 0., 0., 0.]])\n",
      "yaianlallz.\n",
      "------\n",
      "Input tensor:  [0, 0]\n",
      "reshape Encoding shape torch.Size([1, 54])\n",
      "reshape Encoding,  tensor([[0., 0., 0., 0., 0., 0., 0., 0., 0., 0., 0., 0., 1., 0., 0., 0., 0., 0.,\n",
      "         0., 0., 0., 0., 0., 0., 0., 0., 0., 0., 0., 0., 0., 0., 0., 0., 0., 0.,\n",
      "         0., 0., 0., 0., 0., 0., 0., 0., 0., 0., 0., 0., 0., 0., 0., 0., 0., 1.]])\n",
      "uknnykee.\n",
      "------\n",
      "Input tensor:  [0, 0]\n",
      "reshape Encoding shape torch.Size([1, 54])\n",
      "reshape Encoding,  tensor([[0., 0., 0., 0., 0., 1., 0., 0., 0., 0., 0., 0., 0., 0., 0., 0., 0., 0.,\n",
      "         0., 0., 0., 0., 0., 0., 0., 0., 0., 0., 0., 0., 0., 0., 1., 0., 0., 0.,\n",
      "         0., 0., 0., 0., 0., 0., 0., 0., 0., 0., 0., 0., 0., 0., 0., 0., 0., 0.]])\n",
      "odnn.\n",
      "------\n",
      "Input tensor:  [0, 0]\n",
      "reshape Encoding shape torch.Size([1, 54])\n",
      "reshape Encoding,  tensor([[0., 0., 0., 0., 0., 0., 0., 0., 0., 0., 0., 0., 0., 0., 1., 0., 0., 0.,\n",
      "         0., 0., 0., 0., 0., 0., 0., 0., 0., 0., 0., 0., 0., 0., 0., 0., 0., 0.,\n",
      "         0., 0., 0., 0., 0., 1., 0., 0., 0., 0., 0., 0., 0., 0., 0., 0., 0., 0.]])\n",
      "daylembrtelu.\n",
      "------\n",
      "Input tensor:  [0, 0]\n",
      "reshape Encoding shape torch.Size([1, 54])\n",
      "reshape Encoding,  tensor([[0., 0., 0., 0., 0., 0., 0., 0., 0., 0., 0., 0., 1., 0., 0., 0., 0., 0.,\n",
      "         0., 0., 0., 0., 0., 0., 0., 0., 0., 0., 0., 0., 0., 0., 0., 0., 0., 0.,\n",
      "         0., 0., 0., 0., 0., 0., 0., 0., 0., 0., 0., 0., 1., 0., 0., 0., 0., 0.]])\n",
      "ta.\n",
      "------\n",
      "Input tensor:  [0, 0]\n",
      "reshape Encoding shape torch.Size([1, 54])\n",
      "reshape Encoding,  tensor([[0., 0., 0., 0., 0., 0., 0., 0., 0., 0., 0., 0., 0., 0., 0., 0., 0., 0.,\n",
      "         0., 0., 1., 0., 0., 0., 0., 0., 0., 0., 1., 0., 0., 0., 0., 0., 0., 0.,\n",
      "         0., 0., 0., 0., 0., 0., 0., 0., 0., 0., 0., 0., 0., 0., 0., 0., 0., 0.]])\n",
      "oh.\n"
     ]
    }
   ],
   "source": [
    "for i in range(0,10):\n",
    "    out = []\n",
    "    ix1 = 0\n",
    "    ix2 = 0\n",
    "    ix = [ix1, ix2]\n",
    "\n",
    "    \n",
    "    \n",
    "    print(\"------\")\n",
    "    print(\"Input tensor: \", ix)\n",
    "    \n",
    "    print(\"reshape Encoding shape\", xenc.shape)\n",
    "    print(\"reshape Encoding, \", xenc)\n",
    "\n",
    "    while True:\n",
    "        xenc = F.one_hot(torch.tensor([ix]), num_classes=len(stoi.keys())).float().reshape(1, -1)\n",
    "        logits = (xenc@W)\n",
    "        counts = logits.exp()\n",
    "        probs = counts/counts.sum(1, keepdims = True)\n",
    "\n",
    "        pred_int = torch.multinomial(probs, num_samples = 1, replacement = True, generator=g).item()\n",
    "        ix1 = ix2\n",
    "        ix2 = pred_int\n",
    "        \n",
    "        ix = ix[1:] + [pred_int]\n",
    "        out.append(itos[pred_int])\n",
    "        if pred_int == 0:\n",
    "            break\n",
    "\n",
    "\n",
    "    print(\"\".join(out))"
   ]
  },
  {
   "cell_type": "markdown",
   "metadata": {},
   "source": [
    "### Report out on the minimum loss found"
   ]
  },
  {
   "cell_type": "code",
   "execution_count": 9,
   "metadata": {},
   "outputs": [
    {
     "data": {
      "image/png": "[encoded data removed]",
      "text/plain": [
       "<Figure size 1000x600 with 1 Axes>"
      ]
     },
     "metadata": {},
     "output_type": "display_data"
    }
   ],
   "source": [
    "min_loss_storage = min(loss_storage)\n",
    "plt.figure(figsize=(10, 6))\n",
    "plt.plot(loss_storage, label=\"Loss\")\n",
    "plt.xlabel(\"Iteration\")\n",
    "plt.ylabel(\"Loss\")\n",
    "plt.title(\"Training Loss over time\")\n",
    "plt.legend()\n",
    "plt.grid(True)\n",
    "plt.show()"
   ]
  },
  {
   "cell_type": "code",
   "execution_count": 105,
   "metadata": {},
   "outputs": [],
   "source": [
    "class Trigram():\n",
    "    def __init__(self,\n",
    "                num_features, \n",
    "                num_outputs, \n",
    "                num_epochs, \n",
    "                learning_rate = 0.01,\n",
    "                logging=False,\n",
    "                regularize=False, \n",
    "                reg_smooth_strength=None, \n",
    "                seed=2147483647,\n",
    "                enable_tqdm = True,\n",
    "                *args,\n",
    "                **kwargs):\n",
    "\n",
    "       \n",
    "        self.num_features = num_features\n",
    "        self.num_outputs = num_outputs\n",
    "        self.num_epochs = num_epochs\n",
    "        self.learning_rate = learning_rate\n",
    "        self.regularize = regularize\n",
    "        self.reg_smooth_strength = reg_smooth_strength\n",
    "        \n",
    "        self.enable_tqdm = enable_tqdm\n",
    "\n",
    "        self.seed = seed\n",
    "        self.g = torch.Generator().manual_seed(self.seed)\n",
    "        self.weights = torch.randn((self.num_features, self.num_outputs), generator=self.g)\n",
    "        self.weights.requires_grad = True\n",
    "\n",
    "        print(\"Initialized weights shape: \", self.weights.shape)\n",
    "\n",
    "\n",
    "\n",
    "\n",
    "    def __call__(self, x, y):\n",
    "        \"\"\"This is where we will compute the loss and store it\"\"\"\n",
    "\n",
    "        xenc = F.one_hot(x,  num_classes = self.num_outputs).float().reshape(num, -1)\n",
    "        \n",
    "        #can also write W with \n",
    "        #W = torch.randn(self.num_features, 27), generator = g, requires_grad = True) \n",
    "        #print('trigram shape: ', x.shape)\n",
    "        #print('Encoding shape: ', xenc.shape)\n",
    "        #print(\"Weights shape: \", self.weights.shape)\n",
    "\n",
    "        #This assert statements makes sure downstream dot product can happen\n",
    "        assert xenc.shape[1] == self.weights.shape[0], \"Check weights dimensions\" #- failure\n",
    "        \n",
    "        logits = (xenc@self.weights) #This calculates neural network output\n",
    "\n",
    "        #needs to transform logits to positive and then scale \n",
    "        counts = logits.exp()\n",
    "        probs = counts / counts.sum(1, keepdims = True) #double check that we keep keepdims = True!\n",
    "\n",
    "        loss = -probs[torch.arange(num), ys].log().mean()\n",
    "\n",
    "        return loss\n",
    "\n",
    "    def fit(self, x, y):\n",
    "        loss_per_iter = []\n",
    "\n",
    "        epoch_counter = tqdm(range(self.num_epochs)) if self.enable_tqdm else range(self.num_epochs)\n",
    "\n",
    "        for epoch in epoch_counter:\n",
    "            #Here we are calling __call__\n",
    "            loss = self(x,y) \n",
    "            \n",
    "            #Regularization attempt\n",
    "            if self.regularize:\n",
    "                loss += 0.01 * (self.weights**2).mean()\n",
    "            else:\n",
    "                pass\n",
    "\n",
    "            self.weights.grad = None #reset the gradient for the weght matrix\n",
    "            loss.backward() #do back propagation\n",
    "\n",
    "            if epoch %10 == 0:\n",
    "                print(f\"Loss kth-iter {epoch + 1}: \", loss.item())\n",
    "            \n",
    "            loss_per_iter.append(loss.item())\n",
    "\n",
    "            self.weights.data += -self.learning_rate *self.weights.grad #we want to use a negative value here as we continue to minimize the loss\n",
    "        \n",
    "        return loss_per_iter\n",
    "\n",
    "    def makemore_samples(self, num_examples, itos):\n",
    "        out = []\n",
    "        for i in range(num_examples):\n",
    "            out = []\n",
    "            to_gen = [0,0]\n",
    "\n",
    "            while True:\n",
    "                xenc = F.one_hot(torch.tensor([to_gen]), num_classes = self.num_outputs).float().reshape(1, -1)\n",
    "                logits = xenc@self.weights\n",
    "                counts = logits.exp()\n",
    "                probs = counts/counts.sum(1, keepdims = True)\n",
    "\n",
    "                pred_input = torch.multinomial(probs, num_samples = 1, replacement = True, generator=self.g).item()\n",
    "\n",
    "                to_gen = to_gen[1:] + [pred_input]\n",
    "                new_char = itos[pred_input]\n",
    "                out.append(new_char)\n",
    "\n",
    "                if pred_input == 0:\n",
    "                    break\n",
    "\n",
    "            print(''.join(out))"
   ]
  },
  {
   "cell_type": "code",
   "execution_count": 106,
   "metadata": {},
   "outputs": [],
   "source": [
    "words = open('./names.txt','r').read().splitlines()\n",
    "all_chars = []\n",
    "for w in words:\n",
    "    all_chars += list(set(w))\n",
    "\n",
    "\n",
    "#Alternative\n",
    "# sorted(list(set(''.join(words)))) #alphabetical listing of all characters in the words\n",
    "all_chars = list(set(all_chars))\n",
    "\n",
    "stoi = {char:num for char, num in zip(sorted(all_chars), range(1, len(all_chars)+1))}\n",
    "stoi['.'] = 0\n",
    "\n",
    "itos = {i:s for s, i in stoi.items()}"
   ]
  },
  {
   "cell_type": "code",
   "execution_count": 107,
   "metadata": {},
   "outputs": [
    {
     "name": "stdout",
     "output_type": "stream",
     "text": [
      "Number of examples:  196113\n",
      "Xs shape  torch.Size([196113, 2])\n"
     ]
    }
   ],
   "source": [
    "#Create bigram training set\n",
    "xs = []\n",
    "ys = []\n",
    "\n",
    "for w in words:\n",
    "    chs = ['.'] + list(w) + ['.'] #adding start and end token to the word character\n",
    "    for ch1, ch2, ch3 in zip(chs, chs[1:], chs[2:]):\n",
    "        #print(f'Ch1: ', ch1)\n",
    "        #print(f'Ch2: ', ch2)\n",
    "        #print(f'Ch3: ', ch3)\n",
    "        ix1 = stoi.get(ch1, 'ix1 missing')\n",
    "        ix2 = stoi.get(ch2, 'ix2 missing')\n",
    "        ix3 = stoi.get(ch3, 'ix3 missing')\n",
    "\n",
    "        #print('-----')\n",
    "        xs.append((ix1, ix2))\n",
    "        ys.append(ix3)\n",
    "\n",
    "\n",
    "xs = torch.tensor(xs)\n",
    "ys = torch.tensor(ys)\n",
    "\n",
    "#num varialb eis replaced with the desired outputs\n",
    "\n",
    "print('Number of examples: ', num)\n",
    "print('Xs shape ', xs.shape)"
   ]
  },
  {
   "cell_type": "code",
   "execution_count": 108,
   "metadata": {},
   "outputs": [
    {
     "name": "stdout",
     "output_type": "stream",
     "text": [
      "Initialized weights shape:  torch.Size([54, 27])\n"
     ]
    }
   ],
   "source": [
    "##Initiate the trigram model\n",
    "run_trigram = Trigram(num_features = 54,\n",
    "                    num_outputs = 27,\n",
    "                    num_epochs = 50,\n",
    "                    learning_rate = 1,\n",
    "                    reg_smooth_strength=0.01,\n",
    "                    regularize=True,\n",
    "                    seed = 2147483647)"
   ]
  },
  {
   "cell_type": "code",
   "execution_count": 110,
   "metadata": {},
   "outputs": [
    {
     "name": "stderr",
     "output_type": "stream",
     "text": [
      "  4%|▍         | 2/50 [00:00<00:13,  3.54it/s]"
     ]
    },
    {
     "name": "stdout",
     "output_type": "stream",
     "text": [
      "Loss kth-iter 1:  4.195971965789795\n"
     ]
    },
    {
     "name": "stderr",
     "output_type": "stream",
     "text": [
      " 24%|██▍       | 12/50 [00:01<00:04,  7.86it/s]"
     ]
    },
    {
     "name": "stdout",
     "output_type": "stream",
     "text": [
      "Loss kth-iter 11:  3.999877452850342\n"
     ]
    },
    {
     "name": "stderr",
     "output_type": "stream",
     "text": [
      " 44%|████▍     | 22/50 [00:03<00:03,  7.77it/s]"
     ]
    },
    {
     "name": "stdout",
     "output_type": "stream",
     "text": [
      "Loss kth-iter 21:  3.8271632194519043\n"
     ]
    },
    {
     "name": "stderr",
     "output_type": "stream",
     "text": [
      " 64%|██████▍   | 32/50 [00:05<00:02,  6.28it/s]"
     ]
    },
    {
     "name": "stdout",
     "output_type": "stream",
     "text": [
      "Loss kth-iter 31:  3.676630973815918\n"
     ]
    },
    {
     "name": "stderr",
     "output_type": "stream",
     "text": [
      " 84%|████████▍ | 42/50 [00:07<00:01,  6.33it/s]"
     ]
    },
    {
     "name": "stdout",
     "output_type": "stream",
     "text": [
      "Loss kth-iter 41:  3.5472300052642822\n"
     ]
    },
    {
     "name": "stderr",
     "output_type": "stream",
     "text": [
      "100%|██████████| 50/50 [00:08<00:00,  6.00it/s]\n"
     ]
    },
    {
     "data": {
      "image/png": "[encoded data removed]",
      "text/plain": [
       "<Figure size 1000x600 with 1 Axes>"
      ]
     },
     "metadata": {},
     "output_type": "display_data"
    }
   ],
   "source": [
    "losses = run_trigram.fit(xs, ys)\n",
    "\n",
    "min_loss_storage = min(losses)\n",
    "plt.figure(figsize=(10, 6))\n",
    "plt.plot(losses, label=\"Loss\")\n",
    "plt.xlabel(\"Iteration\")\n",
    "plt.ylabel(\"Loss\")\n",
    "plt.title(\"Training Loss over time\")\n",
    "plt.legend()\n",
    "plt.grid(True)\n",
    "plt.show()"
   ]
  },
  {
   "cell_type": "code",
   "execution_count": 114,
   "metadata": {},
   "outputs": [
    {
     "name": "stdout",
     "output_type": "stream",
     "text": [
      "nr.\n",
      "gfnvabjxatan.\n",
      "aemtansplvymyddvaiyqwwetdpmarrzwrt.\n",
      "aennhmwbdkdhusni.\n",
      "ziyddzqmraitaqxanemvxqpuocz.\n",
      ".\n",
      "kollinyndfj.\n",
      "upfkbdfkbduncn.\n",
      "o.\n",
      ".\n",
      "yewqxbemrwkxojxqzpgjlgtfwberollvaizpgxnws.\n",
      "zoefzbduu.\n",
      "yhh.\n",
      "ggbdvaongbzonxpqsaelcmhhusjxsczdvjm.\n",
      "oanrwekovdsvtaddzgksuccnanrbecanpwevbeqrwlpfkpgrlinhpkxdzisnl.\n",
      "aolnzriianlfuh.\n",
      "gyewa.\n",
      "ooeaxstl.\n",
      "ztmgunynhudyzgsdckvlig.\n",
      "zgln.\n",
      "ziptkogubsmzkpqm.\n",
      "aeckchkpsacsnysiraer.\n",
      "onzvvxoyzpyagjnb.\n",
      "hh.\n",
      "taktrkaabem.\n",
      "gadudcn.\n",
      "ziinhussjlelpgefbhbdlzbllhzgpwxfjdianbbmqxo.\n",
      "pgbdlllwp.\n",
      "jnvpwxzjfybdpwwh.\n",
      "an.\n"
     ]
    }
   ],
   "source": [
    "run_trigram.makemore_samples(num_examples=30, itos = itos)"
   ]
  },
  {
   "cell_type": "code",
   "execution_count": null,
   "metadata": {},
   "outputs": [],
   "source": []
  }
 ],
 "metadata": {
  "kernelspec": {
   "display_name": "a-alpha-conda",
   "language": "python",
   "name": "python3"
  },
  "language_info": {
   "codemirror_mode": {
    "name": "ipython",
    "version": 3
   },
   "file_extension": ".py",
   "mimetype": "text/x-python",
   "name": "python",
   "nbconvert_exporter": "python",
   "pygments_lexer": "ipython3",
   "version": "3.10.14"
  }
 },
 "nbformat": 4,
 "nbformat_minor": 2
}
